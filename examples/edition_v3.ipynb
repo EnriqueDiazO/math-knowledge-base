{
 "cells": [
  {
   "cell_type": "code",
   "execution_count": 1,
   "id": "7ff20c91",
   "metadata": {},
   "outputs": [
    {
     "name": "stdout",
     "output_type": "stream",
     "text": [
      "✅ Base de datos 'math_v0_db' restaurada exitosamente desde '/home/enrique/Desktop/math-knowledge/backup_V00'\n",
      "✅ Conectado a la base de datos 'math_v0_db', colección 'acoustics'\n"
     ]
    },
    {
     "name": "stderr",
     "output_type": "stream",
     "text": [
      "2025-05-27T21:03:37.788-0600\tThe --db and --collection flags are deprecated for this use-case; please use --nsInclude instead, i.e. with --nsInclude=${DATABASE}.${COLLECTION}\n",
      "2025-05-27T21:03:37.789-0600\tbuilding a list of collections to restore from /home/enrique/Desktop/math-knowledge/backup_V00/math_v0_db dir\n",
      "2025-05-27T21:03:37.789-0600\tdon't know what to do with file \"/home/enrique/Desktop/math-knowledge/backup_V00/math_v0_db/prelude.json\", skipping...\n",
      "2025-05-27T21:03:37.789-0600\treading metadata for math_v0_db.acoustics from /home/enrique/Desktop/math-knowledge/backup_V00/math_v0_db/acoustics.metadata.json\n",
      "2025-05-27T21:03:37.790-0600\treading metadata for math_v0_db.collection from /home/enrique/Desktop/math-knowledge/backup_V00/math_v0_db/collection.metadata.json\n",
      "2025-05-27T21:03:37.790-0600\treading metadata for math_v0_db.contenido from /home/enrique/Desktop/math-knowledge/backup_V00/math_v0_db/contenido.metadata.json\n",
      "2025-05-27T21:03:37.791-0600\tdropping collection math_v0_db.collection before restoring\n",
      "2025-05-27T21:03:37.791-0600\tdropping collection math_v0_db.acoustics before restoring\n",
      "2025-05-27T21:03:37.791-0600\tdropping collection math_v0_db.contenido before restoring\n",
      "2025-05-27T21:03:37.802-0600\trestoring math_v0_db.collection from /home/enrique/Desktop/math-knowledge/backup_V00/math_v0_db/collection.bson\n",
      "2025-05-27T21:03:37.804-0600\trestoring math_v0_db.contenido from /home/enrique/Desktop/math-knowledge/backup_V00/math_v0_db/contenido.bson\n",
      "2025-05-27T21:03:37.807-0600\trestoring math_v0_db.acoustics from /home/enrique/Desktop/math-knowledge/backup_V00/math_v0_db/acoustics.bson\n",
      "2025-05-27T21:03:37.813-0600\tfinished restoring math_v0_db.collection (20 documents, 0 failures)\n",
      "2025-05-27T21:03:37.815-0600\tfinished restoring math_v0_db.contenido (8 documents, 0 failures)\n",
      "2025-05-27T21:03:37.817-0600\tfinished restoring math_v0_db.acoustics (9 documents, 0 failures)\n",
      "2025-05-27T21:03:37.817-0600\tno indexes to restore for collection math_v0_db.acoustics\n",
      "2025-05-27T21:03:37.817-0600\tno indexes to restore for collection math_v0_db.contenido\n",
      "2025-05-27T21:03:37.817-0600\tno indexes to restore for collection math_v0_db.collection\n",
      "2025-05-27T21:03:37.817-0600\t37 document(s) restored successfully. 0 document(s) failed to restore.\n"
     ]
    }
   ],
   "source": [
    "from db.mathmongo import conectar_y_restaurar\n",
    "\n",
    "#database = MathMongoDB(db_name=\"math_v0_db\",\n",
    "#                  collection_name=\"acoustics\")\n",
    "\n",
    "\n",
    "# 🚀 Conectar y restaurar antes de operar\n",
    "database = conectar_y_restaurar(db_name=\"math_v0_db\", \n",
    "                          collection_name=\"acoustics\",\n",
    "                           backup_dir=\"/home/enrique/Desktop/math-knowledge/backup_V00\")\n"
   ]
  },
  {
   "cell_type": "code",
   "execution_count": 111,
   "id": "dcb1454f",
   "metadata": {},
   "outputs": [
    {
     "name": "stdout",
     "output_type": "stream",
     "text": [
      "✅ Guardado como: ./plantillas/definicion__60b62647.json\n"
     ]
    }
   ],
   "source": [
    "# 11. Convertir de md a json\n",
    "from conversion.markdownparser import MarkdownParser\n",
    "\n",
    "parser = MarkdownParser()\n",
    "resultado = parser.parsear_md(\"/home/enrique/Desktop/math-knowledge/math-knowledge-base/notebooks/MD_files/acoustics/def001.md\", guardar=True)"
   ]
  },
  {
   "cell_type": "code",
   "execution_count": 112,
   "id": "b5b98223",
   "metadata": {},
   "outputs": [
    {
     "name": "stdout",
     "output_type": "stream",
     "text": [
      "✅ Insertado: definicion__60b62647.json\n",
      "📥 Insertados 1 documentos desde './plantillas'\n"
     ]
    }
   ],
   "source": [
    "database.insertar_desde_directorio(ruta=\"./plantillas\")"
   ]
  },
  {
   "cell_type": "code",
   "execution_count": 113,
   "id": "d5e9c6fc",
   "metadata": {},
   "outputs": [
    {
     "name": "stdout",
     "output_type": "stream",
     "text": [
      "📄 Campos tipo texto en los documentos:\n",
      "                   id        tipo                                                                    titulo                                                                                                                                                                                                                                                                                                                                                                                                                                                                                                                                                                                                                                                                                                                                                                                                                                                                                                                                                                                                                                                                                                                                                                                                                    contenido_latex                                                                                                                                                                                                                                                                                    comentario                                                                                                                                                                                                                       comentario_previo                                                                categoria                                                                                               tags                                                                                                                    referencia                                                                                                                                                                                                           bibtex_entry                                                                          relacionado_con                                                     enlaces_salida                                                                        enlaces_entrada                                                                                                                                                                 comentario_personal                                 inspirado_en                                                    creado_a_partir_de caso explicacion explicacion_latex contexto\n",
      " definición::5901c801  definicion                                                             Señal digital                                                                                                                                                                                                                                                                                                                                                                                                                     \\begin{definition}\\nLas señales son funciones de una o más variables independientes que contienen información acerca del comportamiento o naturaleza de algún fenómeno. En este contexto nos enfocaremos en señales (denotadas con $X$ ) que involucran una sola variable independiente. Por conveniencia, la variable independiente se identifica con el tiempo, por lo que:\\n\\n\\[\\nX : A \\rightarrow K,\\n\\]\\n\\ndonde $A$ es el dominio de la señal y $K$ su codominio.\\n\\nConsideramos dos tipos de señales:\\n\\begin{itemize}\\n  \\item $X$ es a tiempo continuo (variable independiente $t$) si $t \\in A \\subset \\mathbb{R}$. Se denota como $X(t)$.\\n  \\item $X$ es a tiempo discreto (variable independiente $n$) si $n \\in A \\subset \\mathbb{Z}$. Se denota como $X[n]$.\\n\\end{itemize}\\n\\end{definition}                                                                                                                                       Las señales digitales representan información en el dominio del tiempo discreto y son fundamentales en el análisis y procesamiento de señales modernas.                                                                                                                                       La representación digital de una señal parte del muestreo y la cuantización de señales continuas.      Procesamiento de Señales, Ingeniería Digital, Matemáticas Aplicadas                                                             señal, digital, muestreo, cuantización          autor: Alan S. Willsky; año: 1996; obra: Signals and Systems; capitulo: Foreword; pagina: xxvii; bibkey: willsky1996                                     @book{willsky1996,\\n  author = {Alan S. Willsky with Ian T. Young},\\n  title = {Signals and Systems},\\n  year = {1996},\\n  publisher = {Prentice-Hall Signal Processing Series}\\n}                Funciones reales de variable real., Funciones complejas de variable real.                                               definicion::5d6cfddd                                                                                                                                                                                                                                                                                                                                                                                                                                          \n",
      " definicion::07c2def9  definicion                                                      Energía de una señal                                                                                                                                                                                                                                                                                                                                                                                                                                                                                                                                                                            \\begin{definition}\\nLa energía total de una señal se define como el cuadrado de su magnitud integrada (o sumada) en el tiempo. Para señales de tiempo continuo, la energía total en el intervalo $ t_{1} \\leq t \\leq t_{2}$ es:\\n\\n\\[\\nE = \\int_{t_1}^{t_2} |x(t)|^2 dt\\n\\]\\n\\ny para señales de tiempo discreto en el intervalo $ n_{1} \\leq n \\leq n_2 $ es:\\n\\n\\[\\nE = \\sum_{n=n_1}^{n_2} |x[n]|^2\\n\\]\\n\\nEn muchos casos interesa calcular la energía total en todo el dominio temporal. Entonces, se define como:\\n\\n\\[\\nE = \\int_{-\\infty}^{\\infty} |x(t)|^2 dt \\quad \\text{o} \\quad E = \\sum_{n=-\\infty}^{\\infty} |x[n]|^2\\n\\]\\n\\end{definition}                                                                                                                                 La energía de una señal es una medida fundamental que permite cuantificar la intensidad total de una señal en el tiempo, ya sea en forma continua o discreta.                                                                                               Aunque esta noción se inspira en conceptos físicos, en procesamiento de señales se aplica a cualquier función que represente información.                          Procesamiento de Señales, Matemáticas Aplicadas                       energía, potencia, señales continuas, señales discretas, análisis de señales                     autor: Alan S. Willsky; año: 1996; obra: Signals and Systems; capitulo: 1; pagina: 6; bibkey: willsky1996                                                                                                                                                                                                                                                                                       definición::senal-digital                                                                  -                                                                   definicion::a09e95be                                                    Esta definición es clave para caracterizar señales y distinguir entre señales de energía finita y señales de potencia constante. Lectura del capítulo 1 del libro de Willsky.       Modelos físicos clásicos aplicados al procesamiento de señales.                                            \n",
      " definicion::fc79255d  definicion                                            Potencia promedio de una señal                                                                                                                                                                                                                                                                                                                                                                                                                                                                                                                                                                                                                                                      \\begin{definition}\\nLa potencia promedio de una señal sobre un intervalo infinito se define como el límite del promedio de su energía por unidad de tiempo conforme el intervalo tiende a infinito. Para señales de tiempo continuo:\\n\\n\\[\\nP_{\\infty} = \\lim_{T \\to \\infty} \\frac{1}{2T} \\int_{-T}^{T} |x(t)|^2 dt\\n\\]\\n\\nY para señales de tiempo discreto:\\n\\n\\[\\nP_{\\infty} = \\lim_{N \\to \\infty} \\frac{1}{2N+1} \\sum_{n=-N}^{N} |x[n]|^2\\n\\]\\n\\nEsta medida permite clasificar señales como de potencia finita aunque su energía total sea infinita.\\n\\n\\end{definition}                                                                                                                           La potencia promedio permite cuantificar la intensidad energética constante que una señal genera por unidad de tiempo, incluso cuando su energía total es infinita.                                                                                   En muchas señales prácticas, como las periódicas o constantes, la energía total diverge, por lo que la potencia promedio es una herramienta más útil.                          Procesamiento de Señales, Matemáticas Aplicadas               potencia, energía promedio, señales continuas, señales discretas, señales periódicas                     autor: Alan S. Willsky; año: 1996; obra: Signals and Systems; capitulo: 1; pagina: 7; bibkey: willsky1996                                                                                                                                                                                                                                   **Referencia**: Alan S. Willsky, 1996, Signals and Systems, 1, 7, willsky1996                                                                  -                                                                   definicion::07c2def9                                               Esta noción es esencial para trabajar con señales periódicas o constantes, donde el concepto de energía no es aplicable directamente. Lectura del capítulo 1 del libro de Willsky.      Ejemplos de señales físicas como senoidales o señales constantes                                            \n",
      " definicion::aa9a6b6c  definicion                             Transformaciones de la variable independiente                                                                                                                                                                                                                                                                      \\begin{definition}\\nUna \\textbf{transformación de la variable independiente} es una operación sobre una señal  $x(t)$ que modifica su comportamiento respecto al eje del tiempo. Entre las transformaciones más comunes están:\\n\\n\\begin{itemize}\\n  \\item \\textbf{Desplazamiento temporal:} $x(t - t_{0})$. Retrasa o adelanta la señal dependiendo del signo de $t_{0}$.\\n  \\item \\textbf{Inversión temporal (reflexión):} $x(-t)$. Refleja la señal respecto al eje vertical $t = 0$.\\n  \\item \\textbf{Escalamiento temporal:} $x(\\alpha t)$. Comprime o estira la señal dependiendo del valor de $\\alpha$.\\n  \\item \\textbf{Transformación afín general:} $x(\\alpha t + \\beta)$. Combinación de escalamiento y desplazamiento.\\n\\end{itemize}\\n\\nEstas transformaciones permiten representar señales desplazadas, invertidas, aceleradas o ralentizadas, y son fundamentales para el análisis en dominios temporales y frecuenciales.\\n\\n\\end{definition}                                                                                                     En análisis de señales y sistemas, transformar la variable independiente es una herramienta fundamental para estudiar propiedades como desplazamiento temporal, inversión y escalamiento.                                                                                                           Estas transformaciones no alteran la forma esencial de la señal, pero modifican su posición o velocidad en el eje del tiempo.       Procesamiento de Señales, Análisis de Sistemas, Álgebra de señales                          transformación temporal, desplazamiento, escalamiento, inversión temporal                     autor: Alan S. Willsky; año: 1996; obra: Signals and Systems; capitulo: 1; pagina: 8; bibkey: willsky1996                                                                                                                                                                                                                                   **Referencia**: Alan S. Willsky, 1996, Signals and Systems, 1, 8, willsky1996                                                                  -                                                                   definición::5901c801                                 : Esta definición abre la puerta a muchos análisis teóricos y prácticos de señales, incluyendo alineamiento, sincronización y análisis multiescala.             Sección 1.2 del libro de Willsky  Aplicaciones como procesamiento de audio, radar y telecomunicaciones                                            \n",
      " definicion::300ea0d1  definicion                                                           Señal periódica                                                                                                                                                                                                                                                                                                                                                                                              \\begin{definition}\\nUna \\textbf{señal periódica} es aquella que permanece invariante ante un desplazamiento temporal igual a un múltiplo entero de un cierto valor positivo.\\n\\nEn tiempo continuo, una señal $x(t)$ es periódica si existe un $T > 0$ tal que:\\n\\n\\[\\nx(t) = x(t + T) \\quad \\text{para todo } t \\in \\mathbb{R}\\n\\]\\n\\nEl menor valor positivo de $T$ que satisface esta propiedad se llama el \\textbf{periodo fundamental} $T_{0}$.\\n\\nEn tiempo discreto, una señal $x[n]$ es periódica si existe un $N \\in \\mathbb{N}$ tal que:\\n\\n\\[\\nx[n] = x[n + N] \\quad \\text{para todo } n \\in \\mathbb{Z}\\n\\]\\n\\nEl \\textbf{periodo fundamental} $ N_{0} $ es el menor valor positivo de $N$ para el cual se cumple esta propiedad. Si no existe tal valor, se dice que la señal es \\textbf{aperiódica}.\\n\\n\\end{definition}                                                                                                  Las señales periódicas son aquellas que repiten su forma en el tiempo a intervalos regulares. Son fundamentales en análisis de Fourier y en la modelación de sistemas físicos conservativos.                                                                                                                                                     Muchas señales naturales y artificiales, como las ondas senoidales, son periódicas.      Procesamiento de Señales, Señales periódicas, Matemáticas Aplicadas                                         señal periódica, periodo, tiempo continuo, tiempo discreto                    autor: Alan S. Willsky; año: 1996; obra: Signals and Systems; capitulo: 1; pagina: 12; bibkey: willsky1996                                                                                                                                                                                                                                  **Referencia**: Alan S. Willsky, 1996, Signals and Systems, 1, 12, willsky1996                                                                  -                                                                   definición::5901c801                                   Esta definición abre la puerta a muchos análisis teóricos y prácticos de señales, incluyendo alineamiento, sincronización y análisis multiescala.           Sección 1.2.2 del libro de Willsky      Problemas físicos periódicos como osciladores o señales de reloj                                            \n",
      " definicion::f2039228  definicion                                                   Señales pares e impares                                                                                                                                                                                                                                                                                                                                                                                                                                                       \\begin{definition}\\nUna \\textbf{señal par} es aquella que cumple:\\n\\n\\[\\nx(-t) = x(t) \\quad \\text{(tiempo continuo)} \\qquad x[-n] = x[n] \\quad \\text{(tiempo discreto)}\\n\\]\\n\\nUna \\textbf{señal impar} es aquella que satisface:\\n\\n\\[\\nx(-t) = -x(t) \\quad \\text{(tiempo continuo)} \\qquad x[-n] = -x[n] \\quad \\text{(tiempo discreto)}\\n\\]\\n\\nToda señal \\( x(t) \\) puede descomponerse como:\\n\\n\\[\\nx(t) = x_e(t) + x_o(t)\\n\\]\\n\\ndonde:\\n\\n\\[\\nx_e(t) = \\frac{1}{2}\\left[ x(t) + x(-t) \\right] \\quad \\text{(parte par)}\\n\\]\\n\\n\\[\\nx_o(t) = \\frac{1}{2}\\left[ x(t) - x(-t) \\right] \\quad \\text{(parte impar)}\\n\\]\\n\\nEstas propiedades son clave en análisis de señales, especialmente cuando se trabaja con transformadas que dependen de simetrías.\\n\\end{definition}                                                                                                 Las señales pueden clasificarse según su simetría respecto al eje temporal. Esta propiedad permite simplificar análisis y descomponer señales en componentes estructuralmente significativos.                                                                                    Toda señal puede expresarse como suma de una parte par y una parte impar. Esta descomposición es útil en el análisis de Fourier y sistemas lineales.                  Procesamiento de Señales, Simetría, Análisis de Señales                                   señal par, señal impar, simetría, descomposición, tiempo inverso                    autor: Alan S. Willsky; año: 1996; obra: Signals and Systems; capitulo: 1; pagina: 14; bibkey: willsky1996                                                                                                                                                                                                                                  **Referencia**: Alan S. Willsky, 1996, Signals and Systems, 1, 14, willsky1996                                                                  -                                                                   definición::5901c801                                                                     Esta clasificación permite usar transformadas más eficientes y entender la simetría estructural de las señales.           Sección 1.2.3 del libro de Willsky            Decomposición de señales aplicadas a análisis de espectros                                            \n",
      " definicion::3f712ac3  definicion                             Señales exponenciales y senoidales periódicas \\begin{definition}\\nUna \\textbf{señal exponencial compleja periódica} es de la forma:\\n\\n\\[\\nx(t) = e^{j\\omega_0 t}\\n\\]\\n\\nEsta señal es periódica si existe un valor $T$ tal que:\\n\\n\\[\\nx(t + T) = x(t)\\n\\]\\n\\nSustituyendo, obtenemos:\\n\\n\\[\\nx(t + T) = e^{j\\omega_0(t + T)} = e^{j\\omega_0 t} \\cdot e^{j\\omega_0 T}\\n\\]\\n\\nPara que se cumpla $ x(t + T) = x(t)$, es necesario que:\\n\\n\\[\\ne^{j \\omega_0 T} = 1\\n\\]\\n\\nAplicando la identidad de Euler, $e^{j\\theta} = 1$ si y solo si $\\theta = 2\\pi m $, con $ m \\in \\mathbb{Z} $. Por tanto:\\n\\n\\[\\n\\omega_0 T = 2\\pi m \\Rightarrow T = \\frac{2\\pi m}{\\omega_0}\\n\\]\\n\\nEl \\textbf{periodo fundamental} es el menor valor positivo de $ T$, que se obtiene tomando $ m = 1$:\\n\\[\\nT_0 = \\frac{2\\pi}{|\\omega_0|}\\n\\]\\n\\nUna \\textbf{señal senoidal periódica} es de la forma:\\n\\n\\[\\nx(t) = A\\\\cos(\\omega_0 t + \\\\phi)\\n\\]\\n\\ny también es periódica con el mismo $ T_0 $. Además, puede expresarse como combinación de exponenciales complejas mediante:\\n\\n\\[\\nA\\cos(\\omega_0 t + \\phi) = \\Re\\{Ae^{j \\omega_0 t + \\phi}\\}\\n\\]\\n\\nEstas formas se utilizan extensamente en análisis de sistemas lineales, espectros de frecuencia y síntesis de señales.\\n\\\\end{definition}                                                                                          Las señales exponenciales complejas y senoidales son bloques fundamentales en el análisis y la síntesis de señales. Se utilizan para modelar oscilaciones, vibraciones, circuitos eléctricos, y más.                                                                 Estas señales son periódicas si su frecuencia angular es un múltiplo racional de \\( 2\\pi \\), y pueden expresarse unas en términos de otras usando identidades de Euler.        Procesamiento de Señales, Análisis de Fourier, Señales periódicas                   señal exponencial, señal senoidal, frecuencia, periodo fundamental, oscilaciones                    autor: Alan S. Willsky; año: 1996; obra: Signals and Systems; capitulo: 1; pagina: 16; bibkey: willsky1996                                                                                                                                                                                                                                  **Referencia**: Alan S. Willsky, 1996, Signals and Systems, 1, 16, willsky1996                                                                  -                       definición::5901c801, definicion::300ea0d1, definicion::aa9a6b6c                            Estas señales no solo son fundamentales en la teoría, sino que modelan directamente fenómenos físicos como vibraciones, circuitos LC y acústica musical.           Sección 1.3.1 del libro de Willsky    Modelos de osciladores armónicos y señales moduladas en frecuencia                                            \n",
      " definicion::f83c66c4  definicion                        Exponenciales complejos armónicamente relacionados                                                                                                                                                                                                                                                                                                                                                                                                                                                                    \\begin{definition}\\nUn conjunto de \\textbf{exponenciales complejos armónicamente relacionados} está formado por señales de la forma:\\n\\n\\[\\n\\phi_k(t) = e^{j k \\omega_0 t}, \\quad k \\in \\mathbb{Z}\\n\\]\\n\\ndonde $ \\omega_0 = \\frac{2 \\pi}{T_0} $ es una frecuencia fundamental común.\\n\\nTodas las señales $ \\phi_k(t) $ son periódicas con el mismo periodo $ T_0 $, ya que:\\n\\n\\[\\n\\omega_0 T_0 = 2\\pi \\Rightarrow e^{j k \\omega_0 T_0} = e^{j 2\\pi k} = 1\\n\\]\\n\\nPara $k = 0$, $\\phi_0(t) = 1$ es constante. Para $ k \\ne 0 $, la señal tiene periodo fundamental $ \\frac{T_0}{|k|} $, pero sigue siendo periódica con periodo $ T_0 $. Estas señales son la base para la representación de señales periódicas mediante series de Fourier.\\n\\end{definition}                                                                                                                                                     Un conjunto de exponenciales complejos se dice armónicamente relacionado si todos sus miembros son periódicos con un mismo periodo común.                                                                                                                        Estas señales son fundamentales para construir señales periódicas más complejas, como en el análisis de Fourier.          Procesamiento de Señales, Señales periódicas, Series de Fourier                                armónicos, exponenciales, frecuencia fundamental, conjunto armónico                    autor: Alan S. Willsky; año: 1996; obra: Signals and Systems; capitulo: 1; pagina: 19; bibkey: willsky1996                                                                                                                                                                                                                                  **Referencia**: Alan S. Willsky, 1996, Signals and Systems, 1, 19, willsky1996                                                                  -                                                                   definicion::3f712ac3                                                                                                           Esta descomposición es esencial para entender modulaciones y envolventes.             Sección 1.5 del libro de Willsky       Aplicación de identidades trigonométricas en señales complejas.                                            \n",
      " definicion::e1a1eef7  definicion                                                         Señal de potencia                                                                                                                                            \\begin{definition}\\nUna \\textbf{señal de potencia} es una señal para la cual la energía total es infinita, pero la \\textbf{potencia promedio} es finita y no nula.\\n\\nEn tiempo discreto, la potencia promedio de una señal $ x[n]$ se define como:\\n\\n\\[\\nP_x = \\lim_{N \\to  \\infty}  \\frac{1}{2N + 1} \\sum_{n = -N}^{N} |x[n]|^2\\n\\]\\n\\nLa señal es de potencia si:\\n\\n\\[\\nE_x = \\sum_{n = -\\infty}^{\\infty} |x[n]|^2 = \\infty \\quad \\text{y} \\quad P_x < \\infty\\n\\]\\n\\nEn tiempo continuo:\\n\\n\\[\\nP_x = \\lim_{T \\to \\infty} \\frac{1}{2T} \\int_{-T}^{T} |x(t)|^2 dt\\n\\]\\n\\ny se requiere que:\\n\\n\\[\\n\\int_{-\\infty}^{\\infty} |x(t)|^2 dt = \\infty \\quad \\text{pero } \\quad P_x < \\infty\\n\\]\\n\\nEjemplos típicos incluyen:\\n\\n\\begin{itemize}\\n  \\item Señal senoidal: $ x[n] = \\cos(\\omega_0 n)$\\n  \\item Exponencial compleja: $ x[n] = e^{j \\omega_0 n} $\\n  \\item Transmisiones de voz o radio continuas\\n\\end{itemize}\\n\\nEstas señales no decaen con el tiempo, por lo que su energía total diverge, pero la potencia que entregan por instante es constante.\\n\\\\end{definition}                                                                                                             Una señal de potencia es aquella que persiste en el tiempo, sin desaparecer, y cuya energía total es infinita pero su energía promedio por unidad de tiempo (potencia) es finita.                                                                                                                     Este tipo de señales modela fenómenos reales como transmisiones de radio, música continua o vibraciones sostenidas.         Procesamiento de Señales, Teoría de Sistemas, Señales periódicas                             potencia, energía infinita, promedio, tiempo discreto, tiempo continuo                    autor: Alan S. Willsky; año: 1996; obra: Signals and Systems; capitulo: 1; pagina: 23; bibkey: willsky1996                                                                                                                                                                                                                                                     definición::senal-de-energia, definición::potencia-promedio                                                                  -                                                                   definicion::3f712ac3 Comprender esta clasificación es clave para saber qué herramientas de análisis utilizar, especialmente en sistemas que procesan señales sostenidas como audio o telecomunicaciones.             Sección 1.3 del libro de Willsky Comparación entre energía total y potencia promedio en señales reales                                            \n",
      " definicion::da78021c  definicion            Equivalencia de frecuencias en señales exponenciales discretas                                                                                                                                                                                                                                                                                                                                                                                                                                                                                                                                                                                                                                                                                                                                                                                                                                                                                                                    \\begin{definition}\\nLa señal $x[n] = e^{j(\\omega_0 + 2\\pi r)n}$ con $r \\in \\mathbb{Z}$ es indistinguible de $x[n] = e^{j \\omega_0 n}$.\\n\\n\\[\\ne^{j(\\omega_0 + 2\\pi r)n} = e^{j\\omega_0 n} \\cdot e^{j2\\pi r n} = e^{j\\omega_0 n}\\n\\]\\n\\nporque $e^{j2\\pi n} = 1$ para todo $n \\in \\mathbb{Z}$.\\n\\end{definition}                                                                                                                                                                                                 En señales discretas, frecuencias que difieren en múltiplos de $2\\pi$ generan la misma señal.                                                                                                                                               Esto contrasta con el caso continuo, donde cada frecuencia representa una señal distinta.                                    Señales periódicas, Señales discretas                                                       frecuencia discreta, aliasing, módulo $2\\pi$                    autor: Alan S. Willsky; año: 1996; obra: Signals and Systems; capitulo: 1; pagina: 26; bibkey: willsky1996                    @book{willsky1996,\\n  author = {Alan S. Willsky with Ian T. Young},\\n  title = {Signals and Systems},\\n  year = {1996},\\n  pages = {26},\\n  publisher = {Prentice-Hall Signal Processing Series}\\n}                                                           definición::frecuencia-angular                                                                  -                                                                   definicion::3f712ac3                                                                                                                                                                                                                                -                                                                     -                                            \n",
      " definicion::a05610a0  definicion          Periodo fundamental de señales exponenciales complejas discretas                                                                                                                                                                                                                                                                                                                                                                                                                                                                                                                                                                                                                                                                                                                                                                                                                                                                                     \\begin{definition}\\nLa frecuencia fundamental de una señal $x[n] = e^{j\\omega_0 n}$ periódica es:\\n\\n\\[\\n\\omega_0 = \\frac{2\\pi m}{N} \\Rightarrow \\text{frecuencia fundamental } \\omega_0/N\\n\\]\\n\\ny el periodo fundamental es:\\n\\n\\[\\nN = m \\cdot \\left( \\frac{2\\pi}{\\omega_0} \\right)\\n\\]\\n\\ncuando $m$ y $N$ son coprimos.\\n\\end{definition}                                                                                                                                            Se puede calcular el periodo fundamental de una señal exponencial discreta a partir de la relación entre frecuencia y múltiplos enteros de $2\\pi$.                                                                                                                                                      Esta relación permite determinar exactamente cuándo una señal periódica se repite.                             Procesamiento de Señales, Señales periódicas                                 frecuencia fundamental, periodo fundamental, señales exponenciales                    autor: Alan S. Willsky; año: 1996; obra: Signals and Systems; capitulo: 1; pagina: 28; bibkey: willsky1996                                                                                                                                                                                                                                                                        definición::periodicidad-tiempo-discreto                                                                  -                                                                   definicion::3f712ac3                                                                                                                                                                                                                                -                                                                     -                                            \n",
      " definicion::314ad202  definicion                     Periodo fundamental de una señal exponencial discreta                                                                                                                        \\begin{definition}\\nUna señal exponencial compleja discreta de la forma\\n\\n\\[\\nx[n] = e^{j \\omega_0 n}\\n\\]\\n\\nes \\textbf{periódica} si y sólo si existe un entero positivo \\( N \\) tal que:\\n\\n\\[\\nx[n + N] = x[n] \\quad \\forall n \\in \\mathbb{Z}\\n\\]\\n\\nSustituyendo en la definición:\\n\\n\\[\\nx[n + N] = e^{j\\omega_0(n + N)} = e^{j\\omega_0 n} \\cdot e^{j\\omega_0 N}\\n\\]\\n\\nPara que esta señal sea periódica, debe cumplirse:\\n\\n\\[\\ne^{j\\omega_0 N} = 1\\n\\]\\n\\nY por propiedades de la exponencial compleja:\\n\\n\\[\\n\\omega_0 N = 2\\pi m \\quad \\text{con } m \\in \\mathbb{Z}\\n\\]\\n\\nDe aquí se deduce que \\( \\omega_0 / 2\\pi \\) debe ser un número racional. Es decir, existe una fracción irreducible \\( \\frac{m}{N} \\) tal que:\\n\\n\\[\\n\\frac{\\omega_0}{2\\pi} = \\frac{m}{N} \\quad \\text{con } \\gcd(m, N) = 1\\n\\]\\n\\nPor lo tanto, el \\textbf{periodo fundamental} \\( N_0 \\) de la señal es el menor entero positivo que satisface:\\n\\n\\[\\nN_0 = \\frac{2\\pi}{\\omega_0} \\cdot m = N\\n\\]\\n\\ndonde \\( \\omega_0 = \\frac{2\\pi m}{N} \\), con \\( m, N \\in \\mathbb{Z} \\), \\( \\gcd(m, N) = 1 \\).\\n\\end{definition} Las señales exponenciales complejas discretas del tipo \\( x[n] = e^{j\\omega_0 n} \\) son fundamentales en el análisis de sistemas lineales. Su periodicidad depende de la relación entre la frecuencia angular \\( \\omega_0 \\) y el número \\( 2\\pi \\), algo que contrasta con el caso continuo. A diferencia de las señales continuas, en el dominio discreto muchas señales con distintas frecuencias pueden representar la misma señal periódica, debido a la periodicidad inherente del dominio de la exponencial compleja discreta.        Procesamiento de Señales, Análisis de Fourier, Señales periódicas periodo fundamental, frecuencia angular, racionalidad, periodicidad discreta, exponencial compleja                    autor: Alan S. Willsky; año: 1996; obra: Signals and Systems; capitulo: 1; pagina: 28; bibkey: willsky1996                    @book{willsky1996,\\n  author = {Alan S. Willsky with Ian T. Young},\\n  title = {Signals and Systems},\\n  year = {1996},\\n  pages = {28},\\n  publisher = {Prentice-Hall Signal Processing Series}\\n}                  definición::senal-exponencial, definición::periodicidad-tiempo-discreto                                                                  -                                                                   definicion::3f712ac3                                                                                                                                                                                                                                -                                                                     -                                            \n",
      " definicion::f1bfba69  definicion                                         Función impulso unitaria discreta                                                                                                                                                                                                                                                                                                                                                                                                                                                                                                                                                                                                                                                                                                               \\begin{definition}\\nLa función impulso unitaria discreta \\( \\delta[n] \\) (también llamada muestra unitaria) se define como:\\n\\n\\[\\n\\delta[n] = \\begin{cases}\\n1, & n = 0 \\\\\\n0, & n \\neq 0\\n\\end{cases}\\n\\]\\n\\nCumple la propiedad de muestreo:\\n\\n\\[\\nx[n] \\delta[n] = x[0] \\delta[n]\\n\\quad \\text{y más generalmente} \\quad\\nx[n] \\delta[n - n_0] = x[n_0] \\delta[n - n_0]\\n\\]\\n\\nAdemás, se relaciona con la función escalón discreta \\( u[n] \\) mediante:\\n\\n\\[\\n\\delta[n] = u[n] - u[n-1]\\n\\]\\n\\end{definition}                                     La función impulso discreta o muestra unitaria es una de las señales más fundamentales en el análisis y modelado de sistemas en tiempo discreto. Actúa como el \"átomo\" con el que se pueden construir otras señales mediante desplazamientos y escalados.                                                                       Se usa como entrada prototipo en sistemas lineales e invariantes en el tiempo (LTI), ya que su respuesta caracteriza completamente el comportamiento del sistema.                   Señales básicas, Tiempo discreto, Análisis de sistemas                                   impulso, delta discreta, muestra unitaria, convolución, muestreo                    autor: Alan S. Willsky; año: 1996; obra: Signals and Systems; capitulo: 1; pagina: 31; bibkey: willsky1996                                                                                                                                                                                                                                         definición::escalon-unitario-discreto, definición::convolucion-discreta                                                                  -                                                                   definición::5901c801                                                                                                                                                                                                                                -                                                                     -                                            \n",
      " definicion::149f3470  definicion                                         Función escalón unitaria discreta                                                                                                                                                                                                                                                                                                                                                                                                                                                                                                                                                                                                                                           \\begin{definition}\\nLa función escalón unitaria discreta \\( u[n] \\), también conocida como secuencia escalón, se define como:\\n\\n\\[\\nu[n] = \\begin{cases}\\n0, & n < 0 \\\\\\n1, & n \\geq 0\\n\\end{cases}\\n\\]\\n\\nTiene una interpretación como suma acumulada de impulsos unitarios desplazados:\\n\\n\\[\\nu[n] = \\sum_{m=-\\infty}^{n} \\delta[m] = \\sum_{k=0}^{\\infty} \\delta[n - k]\\n\\]\\n\\nPor lo tanto, \\( u[n] \\) puede verse como la \\textbf{suma corrida} de \\( \\delta[n] \\), y su primer diferencia genera nuevamente el impulso:\\n\\n\\[\\n\\delta[n] = u[n] - u[n - 1]\\n\\]\\n\\end{definition}                                         La función escalón discreta representa una señal que permanece en cero hasta un punto y luego se activa permanentemente en uno. Es fundamental en el análisis de sistemas porque puede describir encendidos, acumulaciones y funciones de activación.                                                                Es la suma acumulada (o integral discreta) de la función impulso unitaria discreta. Tiene múltiples aplicaciones en convolución y análisis de respuesta en sistemas LTI.                   Señales básicas, Tiempo discreto, Análisis de sistemas                                          escalón, unidad, tiempo discreto, activación, acumulación                    autor: Alan S. Willsky; año: 1996; obra: Signals and Systems; capitulo: 1; pagina: 31; bibkey: willsky1996                                                                                                                                                                                                                                              definición::impulso-unitario-discreto, proposicion::suma-de-deltas                                               definicion::f1bfba69                                                                    **Inspirado en**: -                                                                                                                                                                                                                                -                                                                     -                                            \n",
      "proposicion::fd2f1eb8 proposicion Relación entre la función escalón y la función impulso en tiempo discreto                                                                                                                                                                                                                                                                                                                                                                                                                                                              \\begin{proposition}\\nLa función impulso unitaria discreta \\( \\delta[n] \\) es la primera diferencia de la función escalón discreta \\( u[n] \\):\\n\\n\\[\\n\\delta[n] = u[n] - u[n - 1]\\n\\]\\n\\nEn sentido inverso, la función escalón discreta se puede expresar como suma acumulada (suma corrida) de impulsos desplazados:\\n\\n\\[\\nu[n] = \\sum_{m = -\\infty}^{n} \\delta[m] = \\sum_{k = 0}^{\\infty} \\delta[n - k]\\n\\]\\n\\nEsto implica que:\\n\\n- \\( u[n] \\) es la suma de impulsos desde el pasado hasta el tiempo \\( n \\)\\n- \\( \\delta[n] \\) es la diferencia entre valores consecutivos del escalón\\n\\nLa interpretación gráfica muestra que \\( u[n] \\) acumula todo lo anterior hasta \\( n \\), mientras que \\( \\delta[n] \\) solo activa en \\( n = 0 \\).\\n\\end{proposition}                                                                                           Esta proposición muestra cómo una función puede derivarse de la otra. El impulso discreto es la diferencia entre valores consecutivos del escalón, y el escalón es la suma acumulativa del impulso.                                                                                                                    Esta relación es análoga a la relación entre derivada e integral en el dominio continuo, pero adaptada a secuencias.              Señales básicas, Operadores discretos, Análisis de sistemas                                           delta, escalón, suma acumulativa, diferencia hacia atrás                 autor: Alan S. Willsky; año: 1996; obra: Signals and Systems; capitulo: 1; pagina: 31–32; bibkey: willsky1996                                                                                                                                                                                                                                    definición::impulso-unitario-discreto, definición::escalon-unitario-discreto                         definicion::149f3470, definicion::f1bfba69                                                                    **Inspirado en**: -                                                                                                                                                                                                                                -                                                                     -                                            \n",
      " definicion::3c02df83  definicion                                         Función impulso unitaria continua                                                                                                                                                                                                                                                                                                                                                \\begin{definition}\\nLa función impulso unitaria continua \\( \\delta(t) \\), también conocida como delta de Dirac, es una idealización definida por las siguientes propiedades:\\n\\n1. \\( \\delta(t) = 0 \\) para todo \\( t \\neq 0 \\)  \\n2. \\( \\int_{-\\infty}^{\\infty} \\delta(t) \\, dt = 1 \\)\\n\\nAdicionalmente, satisface la propiedad de muestreo:\\n\\n\\[\\n\\int_{-\\infty}^{\\infty} x(t) \\delta(t - t_0) \\, dt = x(t_0)\\n\\]\\n\\nFormalmente, \\( \\delta(t) \\) puede interpretarse como el límite de una familia de funciones con área unitaria y soporte cada vez más estrecho:\\n\\n\\[\\n\\delta(t) = \\lim_{\\Delta \\to 0} \\delta_\\Delta(t) = \\lim_{\\Delta \\to 0} \\frac{1}{\\Delta} u_\\Delta(t)\\n\\]\\n\\ndonde \\( u_\\Delta(t) \\) es un escalón suavizado que sube de 0 a 1 en un intervalo de longitud \\( \\Delta \\). Esta interpretación se muestra en la figura 1.34 del texto.\\n\\end{definition}                                                         La función impulso continua \\( \\delta(t) \\) no es una función en el sentido clásico, sino una idealización matemática que modela una entrada instantánea de magnitud infinita y duración infinitesimal, manteniendo un área unitaria.                                                 Se utiliza en el análisis de sistemas LTI para caracterizar su respuesta impulsiva. Tiene un papel central en la teoría de señales y sistemas, así como en la teoría de distribuciones. Señales básicas, Tiempo continuo, Teoría de sistemas, Análisis funcional                            impulso continuo, delta de Dirac, idealización, área unitaria, muestreo                 autor: Alan S. Willsky; año: 1996; obra: Signals and Systems; capitulo: 1; pagina: 33–34; bibkey: willsky1996                                                                                                                                                                                                                                           definición::escalon-unitario-continuo, proposicion::muestreo-continuo                                                                  -                                                                    **Inspirado en**: -                                                                                                                                                                                                                                -                                                                     -                                            \n",
      "proposicion::1e680644 proposicion                          Relación entre impulso e integración del escalón                                                                                                                                                                                                                                                                                                                                                                                                                                  \\begin{proposition}\\nLa función impulso unitario continua \\( \\delta(t) \\) es la derivada del escalón unitario \\( u(t) \\):\\n\\n\\[\\n\\delta(t) = \\frac{d}{dt} u(t)\\n\\]\\n\\ndonde el \\textbf{escalón unitario continuo} \\( u(t) \\) está definido como:\\n\\n\\[\\nu(t) =\\n\\begin{cases}\\n0, & t < 0 \\\\\\\\\\n1, & t \\geq 0\\n\\end{cases}\\n\\]\\n\\nEs una función discontinua que se utiliza para representar el encendido de una señal o sistema en el instante \\( t = 0 \\).\\n\\n\\nPor otro lado, la función escalón unitario es la integral del impulso:\\n\\n\\[\\nu(t) = \\int_{-\\infty}^{t} \\delta(\\tau) d\\tau\\n\\]\\n\\nEsta relación se justifica intuitivamente considerando que el impulso representa un cambio instantáneo en una señal, y el escalón representa la acumulación de tal cambio.\\n\\end{proposition}                                                                                                                                    La función impulso de Dirac puede interpretarse como la derivada del escalón unitario \\( u(t) \\), y recíprocamente, el escalón es la integral del impulso.                                                                              Esta relación proporciona una base para modelar la respuesta impulsiva de sistemas y fundamenta la conexión entre discontinuidades y cambios instantáneos.                  Señales básicas, Análisis funcional, Teoría de sistemas                               delta de Dirac, escalón unitario, derivada, integral, discontinuidad                 autor: Alan S. Willsky; año: 1996; obra: Signals and Systems; capitulo: 1; pagina: 33–35; bibkey: willsky1996                                                                                                                                                                                                                                    definición::impulso-unitario-continuo, definición::escalon-unitario-continuo                                               definicion::3c02df83                                                                    **Inspirado en**: -                                                                                                                                                                                                                                -                                                                     -                                            \n",
      "proposicion::7b87bb0c proposicion                                Propiedad de muestreo del impulso continuo                                                                                                                                                                                                                                                                                                                                                                                                                                                                                                                                                                                                                                                                                                                                                                                                                                                                                                   \\begin{proposition}\\nLa función impulso continua \\( \\delta(t) \\) tiene la propiedad de muestreo:\\n\\n\\[\\nx(t)\\delta(t) = x(0)\\delta(t)\\n\\]\\n\\ny más generalmente:\\n\\n\\[\\nx(t)\\delta(t - t_0) = x(t_0)\\delta(t - t_0)\\n\\]\\n\\nEs decir, el impulso “extrae” el valor de la función en el instante en que ocurre.\\n\\end{proposition}                                                                                                                                            Esta propiedad muestra cómo el impulso de Dirac actúa como un “muestreador” ideal, extrayendo el valor exacto de una función continua en un punto.                                                                                                                                              Constituye la base matemática de muchas operaciones en sistemas de muestreo y convolución.       Teoría de señales, Tiempo continuo, Muestreo, Análisis de sistemas                                           muestreo, impulso continuo, producto, evaluación puntual                 autor: Alan S. Willsky; año: 1996; obra: Signals and Systems; capitulo: 1; pagina: 35–36; bibkey: willsky1996                                                                                                                                                                                                                                    definición::impulso-unitario-continuo, proposicion::relacion-impulso-escalon                                               definicion::3c02df83                                                                    **Inspirado en**: -                                                                                                                                                                                                                                -                                                                     -                                            \n",
      " definicion::26070d47  definicion                                            Modelo fuente-filtro del habla                                                                                                                                                                                                                                                                                                                                                                                                                                  \\begin{definition}\\nEl \\textbf{modelo fuente-filtro del habla} establece que la señal de habla es el resultado de una \\textbf{fuente acústica} (como la vibración de las cuerdas vocales o un flujo turbulento) que se filtra a través de un \\textbf{sistema resonante} representado por el tracto vocal.\\n\\nFormalmente, la señal de habla $s(t)$ puede representarse como:\\n\\n\\[\\ns(t) = e(t) * h(t)\\n\\]\\n\\ndonde:\\n- $ e(t) $: función fuente (excitación: impulso, ruido, pulso periódico),\\n\\n- $ h(t) $: respuesta impulsiva del tracto vocal (el filtro),\\n\\n- $ * $: convolución temporal.\\n\\nEste modelo supone que la fuente y el filtro son independientes y que el tracto vocal actúa como un sistema lineal e invariante en el tiempo durante intervalos cortos.\\n\\n\\end{definition}                                                             Este modelo permite analizar la producción del habla separando la generación de energía (fuente) de su modulación resonante (filtro), lo que facilita su representación matemática, simulación computacional y análisis acústico.                                                           Esta descripción es central en fonética acústica y en la ingeniería del habla, siendo ampliamente utilizada en síntesis de voz, análisis espectral y estimación de formantes.                 Producción del habla, Fonética acústica, Modelos físicos                                    fuente-filtro, tracto vocal, voz, resonancia, modelado acústico autor: Fant G.; año: 1960; obra: Acoustic Theory of Speech Production; capitulo: 1.1; pagina: 15–16; bibkey: fant1960acoustic @book{fant1960acoustic,\\n  author = {Fant, Gunnar},\\n  title = {Acoustic Theory of Speech Production},\\n  year = {1960},\\n  publisher = {Mouton},\\n  address = {The Hague},\\n  chapter = {1.1},\\n  pages = {15--16}\\n} definición::fuente-glotal, definición::funcion-transferencia-vocal, definición::formante **Enlaces de entrada**: definicion::3c02df83, definición::5901c801                                             definicion::3c02df83, definición::5901c801  Este modelo no solo estructura la forma en que se analiza el habla, sino que permite separar y estudiar los mecanismos fisiológicos y físicos que dan forma al contenido acústico.          Curso de fonética acústica avanzada                       Lectura directa del capítulo 1.1 de Fant (1960)                                            \n",
      " definicion::8411446d  definicion                                 Función de transferencia del tracto vocal                                                                                                                                                                                                                                                                                                                                                                    \\begin{definition}\\nLa \\textbf{función de transferencia del tracto vocal} \\( T(f) \\) es una función compleja que representa cómo las cavidades del tracto vocal modifican espectralmente una señal de entrada.\\n\\nFormalmente, es la relación en frecuencia entre la presión acústica \\( P_{\\text{out}}(f) \\) en los labios (o nariz) y la velocidad volumétrica \\( U(f) \\) de la fuente glotal:\\n\\n\\[\\nT(f) = \\frac{P_{\\text{out}}(f)}{U(f)}\\n\\]\\n\\nEsta función depende de la geometría y configuración articulatoria del tracto vocal y presenta picos de resonancia denominados \\textbf{formantes}, los cuales definen el patrón espectral del habla.\\n\\nLa función \\( T(f) \\) se deriva comúnmente mediante modelos eléctricos en red o por series de tubos concatenados que simulan las propiedades acústicas de las cavidades vocales.\\n\\end{definition}                                                                                                                      Esta función describe cómo el tracto vocal transforma una señal de entrada (la fuente glotal) en una señal de salida (el habla), a través de sus propiedades resonantes.                                                                                  Es el núcleo matemático del modelo fuente-filtro y permite analizar la modulación espectral introducida por las cavidades orales, nasales y faríngeas.               Fonética acústica, Sistemas lineales, Producción del habla                                     tracto vocal, transferencia, resonancia, espectro, convolución    autor: Fant G.; año: 1960; obra: Acoustic Theory of Speech Production; capitulo: 1.1; pagina: 16; bibkey: fant1960acoustic     @book{fant1960acoustic,\\n  author = {Fant, Gunnar},\\n  title = {Acoustic Theory of Speech Production},\\n  year = {1960},\\n  publisher = {Mouton},\\n  address = {The Hague},\\n  chapter = {1.1},\\n  pages = {16}\\n}                                   definición::modelo-fuente-filtro, definición::formante                                                                  -                       definicion::3c02df83, definición::5901c801, definicion::26070d47  Este modelo no solo estructura la forma en que se analiza el habla, sino que permite separar y estudiar los mecanismos fisiológicos y físicos que dan forma al contenido acústico.          Curso de fonética acústica avanzada                       Lectura directa del capítulo 1.1 de Fant (1960)                                            \n",
      " definicion::c35a7ba4  definicion                                                                  Formante                                                                                                                                                                                                                                                                                                                                                                                \\begin{definition}\\nUn \\textbf{formante} es una frecuencia de resonancia del tracto vocal que se manifiesta como un \\textbf{pico en la función de transferencia} \\( T(f) \\) del sistema de producción del habla.\\n\\nMatemáticamente, los formantes corresponden a los polos dominantes de \\( T(f) \\), cuya magnitud determina su prominencia espectral. Las primeras tres resonancias se designan comúnmente como \\( F_1, F_2, F_3 \\).\\n\\nLa frecuencia de un formante depende de:\\n\\begin{itemize}\\n  \\item La longitud total del tracto vocal.\\n  \\item La forma y apertura de cada cavidad.\\n  \\item Las condiciones de frontera (labios abiertos, velum cerrado/abierto).\\n\\end{itemize}\\n\\nLos formantes caracterizan acústicamente a las vocales, y su análisis permite inferir configuraciones articulatorias aproximadas.\\n\\end{definition}                                                                                Los formantes son las frecuencias de resonancia del tracto vocal y se manifiestan como picos en la envolvente espectral de una señal de habla. Determinan el timbre y la inteligibilidad de sonidos vocálicos.                                    La localización y amplitud de los formantes dependen directamente de la configuración articulatoria (longitud y forma del tracto vocal) y son cruciales para la distinción perceptual entre vocales.                       Fonética acústica, Análisis espectral, Resonancias                                   formante, frecuencia de resonancia, espectro vocal, tracto vocal autor: Fant G.; año: 1960; obra: Acoustic Theory of Speech Production; capitulo: 1.3; pagina: 19–20; bibkey: fant1960acoustic @book{fant1960acoustic,\\n  author = {Fant, Gunnar},\\n  title = {Acoustic Theory of Speech Production},\\n  year = {1960},\\n  publisher = {Mouton},\\n  address = {The Hague},\\n  chapter = {1.3},\\n  pages = {19--20}\\n}                definición::funcion-transferencia-vocal, definición::modelo-fuente-filtro                                                                  - definicion::3c02df83, definición::5901c801, definicion::26070d47, definicion::8411446d  Este modelo no solo estructura la forma en que se analiza el habla, sino que permite separar y estudiar los mecanismos fisiológicos y físicos que dan forma al contenido acústico.          Curso de fonética acústica avanzada                       Lectura directa del capítulo 1.1 de Fant (1960)                                            \n",
      " definicion::60b62647  definicion                                                             Fuente glotal                                                                                                                                                                                                                                                                                                                                                                   \\begin{definition}\\nLa \\textbf{fuente glotal} es la señal de flujo de volumen de aire generado en la glotis durante la vibración de las cuerdas vocales.\\n\\nDesde un punto de vista acústico, puede modelarse como una señal periódica \\( u_g(t) \\) con una componente continua (DC) y una serie de armónicos \\( f_0, 2f_0, 3f_0, \\ldots \\), donde \\( f_0 \\) es la frecuencia fundamental.\\n\\nLa forma de \\( u_g(t) \\) depende de:\\n\\begin{itemize}\\n  \\item La duración relativa de apertura/cierre de la glotis (relación apertura-cierre).\\n  \\item La velocidad de cierre (que afecta los armónicos altos).\\n  \\item La presión subglotal y la impedancia del tracto vocal.\\n\\end{itemize}\\n\\nUn modelo típico es el de flujo glotal diferenciado, que produce un espectro decreciente aproximadamente con pendiente de \\(-12\\) dB/octava.\\n\\end{definition}                                                                                                              La fuente glotal es el flujo de aire modulado periódicamente por las cuerdas vocales durante la fonación. Es el origen de la señal acústica en sonidos sonoros como las vocales.                                                                   Esta señal periódica contiene múltiples armónicos, y su forma y espectro están determinados por las características físicas y fisiológicas de la glotis y la laringe.          Fonación, Producción de voz, Procesamiento de señales acústicas                                        glotis, fonación, fuente de voz, cuerdas vocales, armónicos autor: Fant G.; año: 1960; obra: Acoustic Theory of Speech Production; capitulo: 1.2; pagina: 12–15; bibkey: fant1960acoustic @book{fant1960acoustic,\\n  author = {Fant, Gunnar},\\n  title = {Acoustic Theory of Speech Production},\\n  year = {1960},\\n  publisher = {Mouton},\\n  address = {The Hague},\\n  chapter = {1.2},\\n  pages = {12--15}\\n}                                   definición::modelo-fuente-filtro, definición::formante                                                                  - definicion::c35a7ba4, definición::5901c801, definicion::26070d47, definicion::8411446d  Este modelo no solo estructura la forma en que se analiza el habla, sino que permite separar y estudiar los mecanismos fisiológicos y físicos que dan forma al contenido acústico.          Curso de fonética acústica avanzada                       Lectura directa del capítulo 1.1 de Fant (1960)                                            \n"
     ]
    }
   ],
   "source": [
    "database.mostrar_campos_texto(limite=100)"
   ]
  },
  {
   "cell_type": "code",
   "execution_count": 114,
   "id": "34f78a61",
   "metadata": {},
   "outputs": [
    {
     "name": "stdout",
     "output_type": "stream",
     "text": [
      "✅ ExportadorLatex listo (sin MongoDB)\n",
      "This is pdfTeX, Version 3.141592653-2.6-1.40.22 (TeX Live 2022/dev/Debian) (preloaded format=pdflatex)\n",
      " restricted \\write18 enabled.\n",
      "entering extended mode\n",
      "(./exportados/definicion____60b62647.tex\n",
      "LaTeX2e <2021-11-15> patch level 1\n",
      "L3 programming layer <2022-01-21>\n",
      "(/usr/share/texlive/texmf-dist/tex/latex/base/article.cls\n",
      "Document Class: article 2021/10/04 v1.4n Standard LaTeX document class\n",
      "(/usr/share/texlive/texmf-dist/tex/latex/base/size12.clo))\n",
      "(./exportados/miestilo.sty\n",
      "(/usr/share/texlive/texmf-dist/tex/latex/base/inputenc.sty)\n",
      "(/usr/share/texlive/texmf-dist/tex/latex/base/fontenc.sty)\n",
      "(/usr/share/texmf/tex/latex/lm/lmodern.sty)\n",
      "(/usr/share/texlive/texmf-dist/tex/latex/base/fontenc.sty\n",
      "(/usr/share/texmf/tex/latex/lm/t1lmr.fd))\n",
      "(/usr/share/texlive/texmf-dist/tex/generic/babel/babel.sty\n",
      "(/usr/share/texlive/texmf-dist/tex/generic/babel/txtbabel.def)\n",
      "(/usr/share/texlive/texmf-dist/tex/generic/babel-spanish/spanish.ldf))\n",
      "(/usr/share/texlive/texmf-dist/tex/latex/base/textcomp.sty)\n",
      "(/usr/share/texlive/texmf-dist/tex/latex/enumitem/enumitem.sty)\n",
      "(/usr/share/texlive/texmf-dist/tex/latex/amsmath/amsmath.sty\n",
      "For additional information on amsmath, use the `?' option.\n",
      "(/usr/share/texlive/texmf-dist/tex/latex/amsmath/amstext.sty\n",
      "(/usr/share/texlive/texmf-dist/tex/latex/amsmath/amsgen.sty))\n",
      "(/usr/share/texlive/texmf-dist/tex/latex/amsmath/amsbsy.sty)\n",
      "(/usr/share/texlive/texmf-dist/tex/latex/amsmath/amsopn.sty))\n",
      "(/usr/share/texlive/texmf-dist/tex/latex/amsfonts/amssymb.sty\n",
      "(/usr/share/texlive/texmf-dist/tex/latex/amsfonts/amsfonts.sty))\n",
      "(/usr/share/texlive/texmf-dist/tex/latex/geometry/geometry.sty\n",
      "(/usr/share/texlive/texmf-dist/tex/latex/graphics/keyval.sty)\n",
      "(/usr/share/texlive/texmf-dist/tex/generic/iftex/ifvtex.sty\n",
      "(/usr/share/texlive/texmf-dist/tex/generic/iftex/iftex.sty)))\n",
      "(/usr/share/texlive/texmf-dist/tex/latex/xcolor/xcolor.sty\n",
      "(/usr/share/texlive/texmf-dist/tex/latex/graphics-cfg/color.cfg)\n",
      "(/usr/share/texlive/texmf-dist/tex/latex/graphics-def/pdftex.def))\n",
      "(/usr/share/texlive/texmf-dist/tex/latex/titlesec/titlesec.sty)\n",
      "(/usr/share/texlive/texmf-dist/tex/latex/graphics/graphicx.sty\n",
      "(/usr/share/texlive/texmf-dist/tex/latex/graphics/graphics.sty\n",
      "(/usr/share/texlive/texmf-dist/tex/latex/graphics/trig.sty)\n",
      "(/usr/share/texlive/texmf-dist/tex/latex/graphics-cfg/graphics.cfg)))\n",
      "(/usr/share/texlive/texmf-dist/tex/latex/hyperref/hyperref.sty\n",
      "(/usr/share/texlive/texmf-dist/tex/generic/ltxcmds/ltxcmds.sty)\n",
      "(/usr/share/texlive/texmf-dist/tex/generic/pdftexcmds/pdftexcmds.sty\n",
      "(/usr/share/texlive/texmf-dist/tex/generic/infwarerr/infwarerr.sty))\n",
      "(/usr/share/texlive/texmf-dist/tex/generic/kvsetkeys/kvsetkeys.sty)\n",
      "(/usr/share/texlive/texmf-dist/tex/generic/kvdefinekeys/kvdefinekeys.sty)\n",
      "(/usr/share/texlive/texmf-dist/tex/generic/pdfescape/pdfescape.sty)\n",
      "(/usr/share/texlive/texmf-dist/tex/latex/hycolor/hycolor.sty)\n",
      "(/usr/share/texlive/texmf-dist/tex/latex/letltxmacro/letltxmacro.sty)\n",
      "(/usr/share/texlive/texmf-dist/tex/latex/auxhook/auxhook.sty)\n",
      "(/usr/share/texlive/texmf-dist/tex/latex/kvoptions/kvoptions.sty)\n",
      "(/usr/share/texlive/texmf-dist/tex/latex/hyperref/pd1enc.def)\n",
      "(/usr/share/texlive/texmf-dist/tex/latex/hyperref/hyperref-langpatches.def)\n",
      "(/usr/share/texlive/texmf-dist/tex/generic/intcalc/intcalc.sty)\n",
      "(/usr/share/texlive/texmf-dist/tex/generic/etexcmds/etexcmds.sty)\n",
      "(/usr/share/texlive/texmf-dist/tex/latex/hyperref/puenc.def)\n",
      "(/usr/share/texlive/texmf-dist/tex/latex/url/url.sty)\n",
      "(/usr/share/texlive/texmf-dist/tex/generic/bitset/bitset.sty\n",
      "(/usr/share/texlive/texmf-dist/tex/generic/bigintcalc/bigintcalc.sty))\n",
      "(/usr/share/texlive/texmf-dist/tex/latex/base/atbegshi-ltx.sty))\n",
      "(/usr/share/texlive/texmf-dist/tex/latex/hyperref/hpdftex.def\n",
      "(/usr/share/texlive/texmf-dist/tex/latex/base/atveryend-ltx.sty)\n",
      "(/usr/share/texlive/texmf-dist/tex/latex/rerunfilecheck/rerunfilecheck.sty\n",
      "(/usr/share/texlive/texmf-dist/tex/generic/uniquecounter/uniquecounter.sty)))\n",
      "(/usr/share/texlive/texmf-dist/tex/latex/amscls/amsthm.sty))\n",
      "(/usr/share/texlive/texmf-dist/tex/latex/l3backend/l3backend-pdftex.def)\n",
      "No file definicion____60b62647.aux.\n",
      "*geometry* driver: auto-detecting\n",
      "*geometry* detected driver: pdftex\n",
      "(/usr/share/texlive/texmf-dist/tex/context/base/mkii/supp-pdf.mkii\n",
      "[Loading MPS to PDF converter (version 2006.09.02).]\n",
      ") (/usr/share/texlive/texmf-dist/tex/latex/epstopdf-pkg/epstopdf-base.sty\n",
      "(/usr/share/texlive/texmf-dist/tex/latex/latexconfig/epstopdf-sys.cfg))\n",
      "(/usr/share/texlive/texmf-dist/tex/latex/hyperref/nameref.sty\n",
      "(/usr/share/texlive/texmf-dist/tex/latex/refcount/refcount.sty)\n",
      "(/usr/share/texlive/texmf-dist/tex/generic/gettitlestring/gettitlestring.sty))\n",
      "(/usr/share/texmf/tex/latex/lm/t1lmss.fd)\n",
      "(/usr/share/texmf/tex/latex/lm/ot1lmr.fd)\n",
      "(/usr/share/texmf/tex/latex/lm/omllmm.fd)\n",
      "(/usr/share/texmf/tex/latex/lm/omslmsy.fd)\n",
      "(/usr/share/texmf/tex/latex/lm/omxlmex.fd)\n",
      "(/usr/share/texlive/texmf-dist/tex/latex/amsfonts/umsa.fd)\n",
      "(/usr/share/texlive/texmf-dist/tex/latex/amsfonts/umsb.fd)\n",
      "Overfull \\hbox (1.05087pt too wide) in paragraph at lines 33--34\n",
      "[]\\T1/lmr/bx/n/12 Enlaces En-tra-da\\T1/lmr/m/n/12 : de-fi-ni-cion::c35a7ba4, de\n",
      "-fi-ni-ci�n::5901c801, de-fi-ni-cion::26070d47, de-\n",
      "[1{/var/lib/texmf/fonts/map/pdftex/updmap/pdftex.map}]\n",
      "(./exportados/definicion____60b62647.aux)\n",
      "\n",
      "Package rerunfilecheck Warning: File `definicion____60b62647.out' has changed.\n",
      "(rerunfilecheck)                Rerun to get outlines right\n",
      "(rerunfilecheck)                or use package `bookmark'.\n",
      "\n",
      " )\n",
      "(see the transcript file for additional information){/usr/share/texmf/fonts/enc\n",
      "/dvips/lm/lm-ec.enc}{/usr/share/texmf/fonts/enc/dvips/lm/lm-mathsy.enc}{/usr/sh\n",
      "are/texmf/fonts/enc/dvips/lm/lm-rm.enc}{/usr/share/texmf/fonts/enc/dvips/lm/lm-\n",
      "mathit.enc}</usr/share/texmf/fonts/type1/public/lm/lmbx12.pfb></usr/share/texmf\n",
      "/fonts/type1/public/lm/lmbxi10.pfb></usr/share/texmf/fonts/type1/public/lm/lmmi\n",
      "12.pfb></usr/share/texmf/fonts/type1/public/lm/lmmi8.pfb></usr/share/texmf/font\n",
      "s/type1/public/lm/lmr12.pfb></usr/share/texmf/fonts/type1/public/lm/lmr8.pfb></\n",
      "usr/share/texmf/fonts/type1/public/lm/lmri12.pfb></usr/share/texmf/fonts/type1/\n",
      "public/lm/lmssbx10.pfb></usr/share/texmf/fonts/type1/public/lm/lmsy10.pfb>\n",
      "Output written on ./exportados/definicion____60b62647.pdf (1 page, 140478 bytes\n",
      ").\n",
      "Transcript written on ./exportados/definicion____60b62647.log.\n",
      "📄 PDF generado en: ./exportados/definicion____60b62647.pdf\n"
     ]
    }
   ],
   "source": [
    "# 6.1 Convertir documento a pdf\n",
    "from export.exportadorlatex import ExportadorLatex\n",
    "\n",
    "# 1. Conectar base\n",
    "#db = MathMongoDB(db_name=\"matematica\", collection_name=\"contenido\")\n",
    "# 2. Crear exportador\n",
    "exportador = ExportadorLatex()\n",
    "\n",
    "# 3. Exportar documento\n",
    "exportador.exportar_desde_dict(database.obtener_dict_por_id(\"definicion::60b62647\"))"
   ]
  },
  {
   "cell_type": "code",
   "execution_count": 107,
   "id": "fbde12c1",
   "metadata": {},
   "outputs": [
    {
     "name": "stdout",
     "output_type": "stream",
     "text": [
      "🧠 Nodos: 21 | Aristas: 28\n",
      "✅ Grafo exportado en: grafo_señales_filtrado.html\n"
     ]
    }
   ],
   "source": [
    "# 12. Gráfico de conocimientos\n",
    "from visualizacion.grafoconocimiento import GrafoConocimiento\n",
    "\n",
    "#db = MathMongoDB(\"matematica\", \"contenido\")\n",
    "#db.insertar_desde_directorio(ruta=\"./plantillas\")\n",
    "\n",
    "docs = database.mostrar_todos()\n",
    "\n",
    "grafo = GrafoConocimiento(docs)\n",
    "#grafo.filtrar(categorias=[\"Topología\",\"Análisis Real\",\"Espacios métricos\"], \n",
    "#              tipos=[\"teorema\", \"definicion\",\"proposicion\"]\n",
    "#              )\n",
    "grafo.construir_grafo()\n",
    "grafo.exportar_html(\"grafo_señales_filtrado.html\",size = 60)"
   ]
  },
  {
   "cell_type": "code",
   "execution_count": 60,
   "id": "a5a9cad1",
   "metadata": {},
   "outputs": [
    {
     "name": "stdout",
     "output_type": "stream",
     "text": [
      "💾 Backup creado en: backup_V00/math_v0_db\n"
     ]
    },
    {
     "name": "stderr",
     "output_type": "stream",
     "text": [
      "2025-05-25T17:31:37.460-0600\twriting math_v0_db.contenido to backup_V00/math_v0_db/contenido.bson\n",
      "2025-05-25T17:31:37.460-0600\twriting math_v0_db.collection to backup_V00/math_v0_db/collection.bson\n",
      "2025-05-25T17:31:37.463-0600\twriting math_v0_db.acoustics to backup_V00/math_v0_db/acoustics.bson\n",
      "2025-05-25T17:31:37.465-0600\tdone dumping math_v0_db.acoustics (9 documents)\n",
      "2025-05-25T17:31:37.468-0600\tdone dumping math_v0_db.contenido (8 documents)\n",
      "2025-05-25T17:31:37.469-0600\tdone dumping math_v0_db.collection (15 documents)\n"
     ]
    }
   ],
   "source": [
    "database.hacer_backup(directorio=\"backup_V00\")"
   ]
  },
  {
   "cell_type": "code",
   "execution_count": 77,
   "id": "0e995735",
   "metadata": {},
   "outputs": [
    {
     "name": "stdout",
     "output_type": "stream",
     "text": [
      "✅ ExportadorLatex listo (sin MongoDB)\n",
      "This is pdfTeX, Version 3.141592653-2.6-1.40.22 (TeX Live 2022/dev/Debian) (preloaded format=pdflatex)\n",
      " restricted \\write18 enabled.\n",
      "entering extended mode\n",
      "(./exportados/definicion____26070d47.tex\n",
      "LaTeX2e <2021-11-15> patch level 1\n",
      "L3 programming layer <2022-01-21>\n",
      "(/usr/share/texlive/texmf-dist/tex/latex/base/article.cls\n",
      "Document Class: article 2021/10/04 v1.4n Standard LaTeX document class\n",
      "(/usr/share/texlive/texmf-dist/tex/latex/base/size12.clo))\n",
      "(./exportados/miestilo.sty\n",
      "(/usr/share/texlive/texmf-dist/tex/latex/base/inputenc.sty)\n",
      "(/usr/share/texlive/texmf-dist/tex/latex/base/fontenc.sty)\n",
      "(/usr/share/texmf/tex/latex/lm/lmodern.sty)\n",
      "(/usr/share/texlive/texmf-dist/tex/latex/base/fontenc.sty\n",
      "(/usr/share/texmf/tex/latex/lm/t1lmr.fd))\n",
      "(/usr/share/texlive/texmf-dist/tex/generic/babel/babel.sty\n",
      "(/usr/share/texlive/texmf-dist/tex/generic/babel/txtbabel.def)\n",
      "(/usr/share/texlive/texmf-dist/tex/generic/babel-spanish/spanish.ldf))\n",
      "(/usr/share/texlive/texmf-dist/tex/latex/base/textcomp.sty)\n",
      "(/usr/share/texlive/texmf-dist/tex/latex/enumitem/enumitem.sty)\n",
      "(/usr/share/texlive/texmf-dist/tex/latex/amsmath/amsmath.sty\n",
      "For additional information on amsmath, use the `?' option.\n",
      "(/usr/share/texlive/texmf-dist/tex/latex/amsmath/amstext.sty\n",
      "(/usr/share/texlive/texmf-dist/tex/latex/amsmath/amsgen.sty))\n",
      "(/usr/share/texlive/texmf-dist/tex/latex/amsmath/amsbsy.sty)\n",
      "(/usr/share/texlive/texmf-dist/tex/latex/amsmath/amsopn.sty))\n",
      "(/usr/share/texlive/texmf-dist/tex/latex/amsfonts/amssymb.sty\n",
      "(/usr/share/texlive/texmf-dist/tex/latex/amsfonts/amsfonts.sty))\n",
      "(/usr/share/texlive/texmf-dist/tex/latex/geometry/geometry.sty\n",
      "(/usr/share/texlive/texmf-dist/tex/latex/graphics/keyval.sty)\n",
      "(/usr/share/texlive/texmf-dist/tex/generic/iftex/ifvtex.sty\n",
      "(/usr/share/texlive/texmf-dist/tex/generic/iftex/iftex.sty)))\n",
      "(/usr/share/texlive/texmf-dist/tex/latex/xcolor/xcolor.sty\n",
      "(/usr/share/texlive/texmf-dist/tex/latex/graphics-cfg/color.cfg)\n",
      "(/usr/share/texlive/texmf-dist/tex/latex/graphics-def/pdftex.def))\n",
      "(/usr/share/texlive/texmf-dist/tex/latex/titlesec/titlesec.sty)\n",
      "(/usr/share/texlive/texmf-dist/tex/latex/graphics/graphicx.sty\n",
      "(/usr/share/texlive/texmf-dist/tex/latex/graphics/graphics.sty\n",
      "(/usr/share/texlive/texmf-dist/tex/latex/graphics/trig.sty)\n",
      "(/usr/share/texlive/texmf-dist/tex/latex/graphics-cfg/graphics.cfg)))\n",
      "(/usr/share/texlive/texmf-dist/tex/latex/hyperref/hyperref.sty\n",
      "(/usr/share/texlive/texmf-dist/tex/generic/ltxcmds/ltxcmds.sty)\n",
      "(/usr/share/texlive/texmf-dist/tex/generic/pdftexcmds/pdftexcmds.sty\n",
      "(/usr/share/texlive/texmf-dist/tex/generic/infwarerr/infwarerr.sty))\n",
      "(/usr/share/texlive/texmf-dist/tex/generic/kvsetkeys/kvsetkeys.sty)\n",
      "(/usr/share/texlive/texmf-dist/tex/generic/kvdefinekeys/kvdefinekeys.sty)\n",
      "(/usr/share/texlive/texmf-dist/tex/generic/pdfescape/pdfescape.sty)\n",
      "(/usr/share/texlive/texmf-dist/tex/latex/hycolor/hycolor.sty)\n",
      "(/usr/share/texlive/texmf-dist/tex/latex/letltxmacro/letltxmacro.sty)\n",
      "(/usr/share/texlive/texmf-dist/tex/latex/auxhook/auxhook.sty)\n",
      "(/usr/share/texlive/texmf-dist/tex/latex/kvoptions/kvoptions.sty)\n",
      "(/usr/share/texlive/texmf-dist/tex/latex/hyperref/pd1enc.def)\n",
      "(/usr/share/texlive/texmf-dist/tex/latex/hyperref/hyperref-langpatches.def)\n",
      "(/usr/share/texlive/texmf-dist/tex/generic/intcalc/intcalc.sty)\n",
      "(/usr/share/texlive/texmf-dist/tex/generic/etexcmds/etexcmds.sty)\n",
      "(/usr/share/texlive/texmf-dist/tex/latex/hyperref/puenc.def)\n",
      "(/usr/share/texlive/texmf-dist/tex/latex/url/url.sty)\n",
      "(/usr/share/texlive/texmf-dist/tex/generic/bitset/bitset.sty\n",
      "(/usr/share/texlive/texmf-dist/tex/generic/bigintcalc/bigintcalc.sty))\n",
      "(/usr/share/texlive/texmf-dist/tex/latex/base/atbegshi-ltx.sty))\n",
      "(/usr/share/texlive/texmf-dist/tex/latex/hyperref/hpdftex.def\n",
      "(/usr/share/texlive/texmf-dist/tex/latex/base/atveryend-ltx.sty)\n",
      "(/usr/share/texlive/texmf-dist/tex/latex/rerunfilecheck/rerunfilecheck.sty\n",
      "(/usr/share/texlive/texmf-dist/tex/generic/uniquecounter/uniquecounter.sty)))\n",
      "(/usr/share/texlive/texmf-dist/tex/latex/amscls/amsthm.sty))\n",
      "(/usr/share/texlive/texmf-dist/tex/latex/l3backend/l3backend-pdftex.def)\n",
      "No file definicion____26070d47.aux.\n",
      "*geometry* driver: auto-detecting\n",
      "*geometry* detected driver: pdftex\n",
      "(/usr/share/texlive/texmf-dist/tex/context/base/mkii/supp-pdf.mkii\n",
      "[Loading MPS to PDF converter (version 2006.09.02).]\n",
      ") (/usr/share/texlive/texmf-dist/tex/latex/epstopdf-pkg/epstopdf-base.sty\n",
      "(/usr/share/texlive/texmf-dist/tex/latex/latexconfig/epstopdf-sys.cfg))\n",
      "(/usr/share/texlive/texmf-dist/tex/latex/hyperref/nameref.sty\n",
      "(/usr/share/texlive/texmf-dist/tex/latex/refcount/refcount.sty)\n",
      "(/usr/share/texlive/texmf-dist/tex/generic/gettitlestring/gettitlestring.sty))\n",
      "(/usr/share/texmf/tex/latex/lm/t1lmss.fd)\n",
      "(/usr/share/texmf/tex/latex/lm/ot1lmr.fd)\n",
      "(/usr/share/texmf/tex/latex/lm/omllmm.fd)\n",
      "(/usr/share/texmf/tex/latex/lm/omslmsy.fd)\n",
      "(/usr/share/texmf/tex/latex/lm/omxlmex.fd)\n",
      "(/usr/share/texlive/texmf-dist/tex/latex/amsfonts/umsa.fd)\n",
      "(/usr/share/texlive/texmf-dist/tex/latex/amsfonts/umsb.fd) [1{/var/lib/texmf/fo\n",
      "nts/map/pdftex/updmap/pdftex.map}] (./exportados/definicion____26070d47.aux)\n",
      "\n",
      "Package rerunfilecheck Warning: File `definicion____26070d47.out' has changed.\n",
      "(rerunfilecheck)                Rerun to get outlines right\n",
      "(rerunfilecheck)                or use package `bookmark'.\n",
      "\n",
      " ){/usr/share/texmf/fonts/enc/dvips/lm/lm-ec.enc}{/usr/share/texmf/fonts/enc/dv\n",
      "ips/lm/lm-mathsy.enc}{/usr/share/texmf/fonts/enc/dvips/lm/lm-rm.enc}{/usr/share\n",
      "/texmf/fonts/enc/dvips/lm/lm-mathit.enc}</usr/share/texmf/fonts/type1/public/lm\n",
      "/lmbx12.pfb></usr/share/texmf/fonts/type1/public/lm/lmbxi10.pfb></usr/share/tex\n",
      "mf/fonts/type1/public/lm/lmmi12.pfb></usr/share/texmf/fonts/type1/public/lm/lmr\n",
      "12.pfb></usr/share/texmf/fonts/type1/public/lm/lmri12.pfb></usr/share/texmf/fon\n",
      "ts/type1/public/lm/lmssbx10.pfb></usr/share/texmf/fonts/type1/public/lm/lmsy10.\n",
      "pfb>\n",
      "Output written on ./exportados/definicion____26070d47.pdf (1 page, 127571 bytes\n",
      ").\n",
      "Transcript written on ./exportados/definicion____26070d47.log.\n",
      "📄 PDF generado en: ./exportados/definicion____26070d47.pdf\n"
     ]
    }
   ],
   "source": [
    "# 6.1 Convertir documento a pdf\n",
    "from export.exportadorlatex import ExportadorLatex\n",
    "\n",
    "# 1. Conectar base\n",
    "#db = MathMongoDB(db_name=\"matematica\", collection_name=\"contenido\")\n",
    "# 2. Crear exportador\n",
    "exportador = ExportadorLatex()\n",
    "\n",
    "# 3. Exportar documento\n",
    "exportador.exportar_desde_dict(database.obtener_dict_por_id(\"definicion::26070d47\"))"
   ]
  },
  {
   "cell_type": "code",
   "execution_count": 58,
   "id": "94b973f3",
   "metadata": {},
   "outputs": [
    {
     "name": "stdout",
     "output_type": "stream",
     "text": [
      "💾 Backup creado en: backup_V00/math_v0_db\n"
     ]
    },
    {
     "name": "stderr",
     "output_type": "stream",
     "text": [
      "2025-05-27T22:39:08.826-0600\twriting math_v0_db.collection to backup_V00/math_v0_db/collection.bson\n",
      "2025-05-27T22:39:08.826-0600\twriting math_v0_db.acoustics to backup_V00/math_v0_db/acoustics.bson\n",
      "2025-05-27T22:39:08.827-0600\tdone dumping math_v0_db.collection (20 documents)\n",
      "2025-05-27T22:39:08.827-0600\tdone dumping math_v0_db.acoustics (18 documents)\n",
      "2025-05-27T22:39:08.829-0600\twriting math_v0_db.contenido to backup_V00/math_v0_db/contenido.bson\n",
      "2025-05-27T22:39:08.829-0600\tdone dumping math_v0_db.contenido (8 documents)\n"
     ]
    }
   ],
   "source": [
    "database.hacer_backup(directorio=\"backup_V00\")"
   ]
  },
  {
   "cell_type": "code",
   "execution_count": null,
   "id": "0efa7402",
   "metadata": {},
   "outputs": [],
   "source": []
  },
  {
   "cell_type": "code",
   "execution_count": null,
   "id": "2d36f039",
   "metadata": {},
   "outputs": [],
   "source": []
  },
  {
   "cell_type": "code",
   "execution_count": 3,
   "id": "5a842884",
   "metadata": {},
   "outputs": [
    {
     "name": "stdout",
     "output_type": "stream",
     "text": [
      "📝 Archivo .md generado: ./exportados/def_0001.md\n"
     ]
    }
   ],
   "source": [
    "database.exportar_a_md(\"def_0001\", salida=\"./exportados\")\n",
    "\n"
   ]
  },
  {
   "cell_type": "code",
   "execution_count": 86,
   "id": "c13f042e",
   "metadata": {},
   "outputs": [
    {
     "name": "stdout",
     "output_type": "stream",
     "text": [
      "✏️ Documento 'definicion::07c2def9' actualizado.\n"
     ]
    }
   ],
   "source": [
    "database.editar_id(doc_id=\"definicion::07c2def9\",nuevos_campos={\"enlaces_entrada\":[\"definicion::a09e95be\"]})"
   ]
  },
  {
   "cell_type": "code",
   "execution_count": 95,
   "id": "e03f042e",
   "metadata": {},
   "outputs": [
    {
     "name": "stdout",
     "output_type": "stream",
     "text": [
      "🗑️ Documento 'definicion::a09e95be' eliminado.\n"
     ]
    }
   ],
   "source": [
    "\n",
    "database.borrar_documento(doc_id=\"definicion::a09e95be\")"
   ]
  },
  {
   "cell_type": "code",
   "execution_count": null,
   "id": "5d5073e8",
   "metadata": {},
   "outputs": [],
   "source": []
  }
 ],
 "metadata": {
  "kernelspec": {
   "display_name": "mathdbmongo",
   "language": "python",
   "name": "python3"
  },
  "language_info": {
   "codemirror_mode": {
    "name": "ipython",
    "version": 3
   },
   "file_extension": ".py",
   "mimetype": "text/x-python",
   "name": "python",
   "nbconvert_exporter": "python",
   "pygments_lexer": "ipython3",
   "version": "3.10.14"
  }
 },
 "nbformat": 4,
 "nbformat_minor": 5
}
