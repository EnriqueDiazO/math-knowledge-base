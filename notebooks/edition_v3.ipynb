{
 "cells": [
  {
   "cell_type": "code",
   "execution_count": 7,
   "id": "7ff20c91",
   "metadata": {},
   "outputs": [
    {
     "name": "stdout",
     "output_type": "stream",
     "text": [
      "✅ Conectado a la base de datos 'math_v0_db', colección 'acoustics'\n"
     ]
    }
   ],
   "source": [
    "from pprint import pprint\n",
    "from db.mathmongo import conectar_y_restaurar\n",
    "import db\n",
    "from db.mathmongo import MathMongoDB\n",
    "\n",
    "database = MathMongoDB(db_name=\"math_v0_db\",\n",
    "                  collection_name=\"acoustics\")\n"
   ]
  },
  {
   "cell_type": "code",
   "execution_count": 6,
   "id": "a5a9cad1",
   "metadata": {},
   "outputs": [
    {
     "name": "stdout",
     "output_type": "stream",
     "text": [
      "💾 Backup creado en: backup_V00/math_v0_db\n"
     ]
    },
    {
     "name": "stderr",
     "output_type": "stream",
     "text": [
      "2025-05-23T00:41:49.065-0600\twriting math_v0_db.collection to backup_V00/math_v0_db/collection.bson\n",
      "2025-05-23T00:41:49.067-0600\tdone dumping math_v0_db.collection (15 documents)\n",
      "2025-05-23T00:41:49.070-0600\twriting math_v0_db.contenido to backup_V00/math_v0_db/contenido.bson\n",
      "2025-05-23T00:41:49.072-0600\tdone dumping math_v0_db.contenido (8 documents)\n"
     ]
    }
   ],
   "source": [
    "database.hacer_backup(directorio=\"backup_V00\")"
   ]
  },
  {
   "cell_type": "code",
   "execution_count": 8,
   "id": "d5e9c6fc",
   "metadata": {},
   "outputs": [
    {
     "name": "stdout",
     "output_type": "stream",
     "text": [
      "⚠️ No hay campos de texto para mostrar.\n"
     ]
    }
   ],
   "source": [
    "database.mostrar_campos_texto()"
   ]
  },
  {
   "cell_type": "code",
   "execution_count": 10,
   "id": "b5b98223",
   "metadata": {},
   "outputs": [
    {
     "name": "stdout",
     "output_type": "stream",
     "text": [
      "✅ Insertado: definicion.json\n",
      "📥 Insertados 1 documentos desde '../plantillas'\n"
     ]
    }
   ],
   "source": [
    "database.insertar_desde_directorio(ruta=\"../plantillas\")"
   ]
  },
  {
   "cell_type": "code",
   "execution_count": 11,
   "id": "69c76153",
   "metadata": {},
   "outputs": [
    {
     "name": "stdout",
     "output_type": "stream",
     "text": [
      "📄 Campos tipo texto en los documentos:\n",
      "      id       tipo        titulo                                                                                                                                                                                                                                                                                                                                                                                                                                                                                                                                                                                                                                                                                                                        contenido_latex                                                           categoria                                   tags                                                                                                                  referencia                                                                                                                                              bibtex_entry                                                                                    condiciones_formales enlaces_salida enlaces_entrada                                                                                                          comentario_personal inspirado_en                                      creado_a_partir_de\n",
      "def_0001 definicion Señal digital Una \\textit{señal digital} es una función discreta que representa información mediante una secuencia de valores definidos en un conjunto de tiempos discretos. Formalmente, una señal digital puede modelarse como una función \\\\ $x: \\mathbb{Z} \\rightarrow \\mathbb{R}$ o $x: \\mathbb{Z} \\rightarrow \\mathbb{C}$, donde $\\mathbb{Z}$ denota el conjunto de enteros (índices de tiempo discretos) y los valores representan amplitudes de la señal.\\\\\\n\\nLas señales digitales son el resultado de la conversión de señales analógicas a través de un proceso de muestreo y cuantización. Sus propiedades dependen de parámetros como la frecuencia de muestreo, resolución en bits y dominio de representación (tiempo o frecuencia). Procesamiento de Señales, Ingeniería Digital, Matemáticas Aplicadas señal, digital, muestreo, cuantización autor: Oppenheim & Schafer; año: 2010; obra: Discrete-Time Signal Processing; capitulo: 1; página: 3; bibkey: Oppenheim2010 @book{Oppenheim2010, author = {Alan V. Oppenheim and Ronald W. Schafer}, title = {Discrete-Time Signal Processing}, year = {2010}, publisher = {Pearson}} Definición en tiempo discreto, Valores numéricos finitos o cuantizados, Representabilidad computacional                                Este concepto es clave para entender todo el procesamiento digital de señales, desde compresión hasta reconocimiento de voz.              Notas del curso de Señales y Sistemas impartido en 2024\n"
     ]
    }
   ],
   "source": [
    "database.mostrar_campos_texto()"
   ]
  },
  {
   "cell_type": "code",
   "execution_count": 12,
   "id": "fbde12c1",
   "metadata": {},
   "outputs": [
    {
     "name": "stdout",
     "output_type": "stream",
     "text": [
      "🧠 Nodos: 1 | Aristas: 0\n",
      "✅ Grafo exportado en: grafo_topologia_filtrado.html\n"
     ]
    }
   ],
   "source": [
    "# 12. Gráfico de conocimientos\n",
    "from db.mathmongo import MathMongoDB\n",
    "from visualizacion.grafoconocimiento import GrafoConocimiento\n",
    "\n",
    "#db = MathMongoDB(\"matematica\", \"contenido\")\n",
    "#db.insertar_desde_directorio(ruta=\"./plantillas\")\n",
    "\n",
    "docs = database.mostrar_todos()\n",
    "\n",
    "grafo = GrafoConocimiento(docs)\n",
    "#grafo.filtrar(categorias=[\"Topología\",\"Análisis Real\",\"Espacios métricos\"], \n",
    "#              tipos=[\"teorema\", \"definicion\",\"proposicion\"]\n",
    "#              )\n",
    "grafo.construir_grafo()\n",
    "grafo.exportar_html(\"grafo_topologia_filtrado.html\")"
   ]
  },
  {
   "cell_type": "code",
   "execution_count": 14,
   "id": "0e995735",
   "metadata": {},
   "outputs": [
    {
     "name": "stdout",
     "output_type": "stream",
     "text": [
      "✅ ExportadorLatex listo (sin MongoDB)\n",
      "This is pdfTeX, Version 3.141592653-2.6-1.40.22 (TeX Live 2022/dev/Debian) (preloaded format=pdflatex)\n",
      " restricted \\write18 enabled.\n",
      "entering extended mode\n",
      "(./exportados/def_0001.tex\n",
      "LaTeX2e <2021-11-15> patch level 1\n",
      "L3 programming layer <2022-01-21>\n",
      "(/usr/share/texlive/texmf-dist/tex/latex/base/article.cls\n",
      "Document Class: article 2021/10/04 v1.4n Standard LaTeX document class\n",
      "(/usr/share/texlive/texmf-dist/tex/latex/base/size12.clo))\n",
      "(./exportados/miestilo.sty\n",
      "(/usr/share/texlive/texmf-dist/tex/latex/base/inputenc.sty)\n",
      "(/usr/share/texlive/texmf-dist/tex/latex/base/fontenc.sty)\n",
      "(/usr/share/texmf/tex/latex/lm/lmodern.sty)\n",
      "(/usr/share/texlive/texmf-dist/tex/latex/base/fontenc.sty\n",
      "(/usr/share/texmf/tex/latex/lm/t1lmr.fd))\n",
      "(/usr/share/texlive/texmf-dist/tex/generic/babel/babel.sty\n",
      "(/usr/share/texlive/texmf-dist/tex/generic/babel/txtbabel.def)\n",
      "(/usr/share/texlive/texmf-dist/tex/generic/babel-spanish/spanish.ldf))\n",
      "(/usr/share/texlive/texmf-dist/tex/latex/base/textcomp.sty)\n",
      "(/usr/share/texlive/texmf-dist/tex/latex/enumitem/enumitem.sty)\n",
      "(/usr/share/texlive/texmf-dist/tex/latex/amsmath/amsmath.sty\n",
      "For additional information on amsmath, use the `?' option.\n",
      "(/usr/share/texlive/texmf-dist/tex/latex/amsmath/amstext.sty\n",
      "(/usr/share/texlive/texmf-dist/tex/latex/amsmath/amsgen.sty))\n",
      "(/usr/share/texlive/texmf-dist/tex/latex/amsmath/amsbsy.sty)\n",
      "(/usr/share/texlive/texmf-dist/tex/latex/amsmath/amsopn.sty))\n",
      "(/usr/share/texlive/texmf-dist/tex/latex/amsfonts/amssymb.sty\n",
      "(/usr/share/texlive/texmf-dist/tex/latex/amsfonts/amsfonts.sty))\n",
      "(/usr/share/texlive/texmf-dist/tex/latex/geometry/geometry.sty\n",
      "(/usr/share/texlive/texmf-dist/tex/latex/graphics/keyval.sty)\n",
      "(/usr/share/texlive/texmf-dist/tex/generic/iftex/ifvtex.sty\n",
      "(/usr/share/texlive/texmf-dist/tex/generic/iftex/iftex.sty)))\n",
      "(/usr/share/texlive/texmf-dist/tex/latex/xcolor/xcolor.sty\n",
      "(/usr/share/texlive/texmf-dist/tex/latex/graphics-cfg/color.cfg)\n",
      "(/usr/share/texlive/texmf-dist/tex/latex/graphics-def/pdftex.def))\n",
      "(/usr/share/texlive/texmf-dist/tex/latex/titlesec/titlesec.sty)\n",
      "(/usr/share/texlive/texmf-dist/tex/latex/graphics/graphicx.sty\n",
      "(/usr/share/texlive/texmf-dist/tex/latex/graphics/graphics.sty\n",
      "(/usr/share/texlive/texmf-dist/tex/latex/graphics/trig.sty)\n",
      "(/usr/share/texlive/texmf-dist/tex/latex/graphics-cfg/graphics.cfg)))\n",
      "(/usr/share/texlive/texmf-dist/tex/latex/hyperref/hyperref.sty\n",
      "(/usr/share/texlive/texmf-dist/tex/generic/ltxcmds/ltxcmds.sty)\n",
      "(/usr/share/texlive/texmf-dist/tex/generic/pdftexcmds/pdftexcmds.sty\n",
      "(/usr/share/texlive/texmf-dist/tex/generic/infwarerr/infwarerr.sty))\n",
      "(/usr/share/texlive/texmf-dist/tex/generic/kvsetkeys/kvsetkeys.sty)\n",
      "(/usr/share/texlive/texmf-dist/tex/generic/kvdefinekeys/kvdefinekeys.sty)\n",
      "(/usr/share/texlive/texmf-dist/tex/generic/pdfescape/pdfescape.sty)\n",
      "(/usr/share/texlive/texmf-dist/tex/latex/hycolor/hycolor.sty)\n",
      "(/usr/share/texlive/texmf-dist/tex/latex/letltxmacro/letltxmacro.sty)\n",
      "(/usr/share/texlive/texmf-dist/tex/latex/auxhook/auxhook.sty)\n",
      "(/usr/share/texlive/texmf-dist/tex/latex/kvoptions/kvoptions.sty)\n",
      "(/usr/share/texlive/texmf-dist/tex/latex/hyperref/pd1enc.def)\n",
      "(/usr/share/texlive/texmf-dist/tex/latex/hyperref/hyperref-langpatches.def)\n",
      "(/usr/share/texlive/texmf-dist/tex/generic/intcalc/intcalc.sty)\n",
      "(/usr/share/texlive/texmf-dist/tex/generic/etexcmds/etexcmds.sty)\n",
      "(/usr/share/texlive/texmf-dist/tex/latex/hyperref/puenc.def)\n",
      "(/usr/share/texlive/texmf-dist/tex/latex/url/url.sty)\n",
      "(/usr/share/texlive/texmf-dist/tex/generic/bitset/bitset.sty\n",
      "(/usr/share/texlive/texmf-dist/tex/generic/bigintcalc/bigintcalc.sty))\n",
      "(/usr/share/texlive/texmf-dist/tex/latex/base/atbegshi-ltx.sty))\n",
      "(/usr/share/texlive/texmf-dist/tex/latex/hyperref/hpdftex.def\n",
      "(/usr/share/texlive/texmf-dist/tex/latex/base/atveryend-ltx.sty)\n",
      "(/usr/share/texlive/texmf-dist/tex/latex/rerunfilecheck/rerunfilecheck.sty\n",
      "(/usr/share/texlive/texmf-dist/tex/generic/uniquecounter/uniquecounter.sty)))\n",
      "(/usr/share/texlive/texmf-dist/tex/latex/amscls/amsthm.sty))\n",
      "(/usr/share/texlive/texmf-dist/tex/latex/l3backend/l3backend-pdftex.def)\n",
      "(./exportados/def_0001.aux)\n",
      "*geometry* driver: auto-detecting\n",
      "*geometry* detected driver: pdftex\n",
      "(/usr/share/texlive/texmf-dist/tex/context/base/mkii/supp-pdf.mkii\n",
      "[Loading MPS to PDF converter (version 2006.09.02).]\n",
      ") (/usr/share/texlive/texmf-dist/tex/latex/epstopdf-pkg/epstopdf-base.sty\n",
      "(/usr/share/texlive/texmf-dist/tex/latex/latexconfig/epstopdf-sys.cfg))\n",
      "(/usr/share/texlive/texmf-dist/tex/latex/hyperref/nameref.sty\n",
      "(/usr/share/texlive/texmf-dist/tex/latex/refcount/refcount.sty)\n",
      "(/usr/share/texlive/texmf-dist/tex/generic/gettitlestring/gettitlestring.sty))\n",
      "(./exportados/def_0001.out) (./exportados/def_0001.out)\n",
      "(/usr/share/texmf/tex/latex/lm/t1lmss.fd)\n",
      "(/usr/share/texmf/tex/latex/lm/ot1lmr.fd)\n",
      "(/usr/share/texmf/tex/latex/lm/omllmm.fd)\n",
      "(/usr/share/texmf/tex/latex/lm/omslmsy.fd)\n",
      "(/usr/share/texmf/tex/latex/lm/omxlmex.fd)\n",
      "(/usr/share/texlive/texmf-dist/tex/latex/amsfonts/umsa.fd)\n",
      "(/usr/share/texlive/texmf-dist/tex/latex/amsfonts/umsb.fd)\n",
      "Underfull \\hbox (badness 10000) in paragraph at lines 7--8\n",
      "\n",
      "! Misplaced alignment tab character &.\n",
      "l.20 Oppenheim &\n",
      "                 Schafer, 2010, Discrete-Time Signal Processing, Ed.  Cap. 1...\n",
      "\n",
      "[1{/var/lib/texmf/fonts/map/pdftex/updmap/pdftex.map}]\n",
      "(./exportados/def_0001.aux) )\n",
      "(see the transcript file for additional information){/usr/share/texmf/fonts/enc\n",
      "/dvips/lm/lm-mathit.enc}{/usr/share/texmf/fonts/enc/dvips/lm/lm-mathex.enc}{/us\n",
      "r/share/texmf/fonts/enc/dvips/lm/lm-ec.enc}{/usr/share/texmf/fonts/enc/dvips/lm\n",
      "/lm-mathsy.enc}{/usr/share/texmf/fonts/enc/dvips/lm/lm-rm.enc}</usr/share/texmf\n",
      "/fonts/type1/public/lm/lmbx12.pfb></usr/share/texmf/fonts/type1/public/lm/lmex1\n",
      "0.pfb></usr/share/texmf/fonts/type1/public/lm/lmmi12.pfb></usr/share/texmf/font\n",
      "s/type1/public/lm/lmmi8.pfb></usr/share/texmf/fonts/type1/public/lm/lmr12.pfb><\n",
      "/usr/share/texmf/fonts/type1/public/lm/lmri12.pfb></usr/share/texmf/fonts/type1\n",
      "/public/lm/lmssbx10.pfb></usr/share/texmf/fonts/type1/public/lm/lmsy10.pfb></us\n",
      "r/share/texlive/texmf-dist/fonts/type1/public/amsfonts/symbols/msbm10.pfb>\n",
      "Output written on ./exportados/def_0001.pdf (1 page, 116915 bytes).\n",
      "Transcript written on ./exportados/def_0001.log.\n",
      "❌ Error al compilar el archivo LaTeX.\n"
     ]
    }
   ],
   "source": [
    "# 6.1 Convertir documento a pdf\n",
    "from db.mathmongo import MathMongoDB\n",
    "from export.exportadorlatex import ExportadorLatex\n",
    "\n",
    "# 1. Conectar base\n",
    "#db = MathMongoDB(db_name=\"matematica\", collection_name=\"contenido\")\n",
    "# 2. Crear exportador\n",
    "exportador = ExportadorLatex()\n",
    "\n",
    "# 3. Exportar documento\n",
    "exportador.exportar_desde_dict(database.obtener_dict_por_id(\"def_0001\"))"
   ]
  },
  {
   "cell_type": "code",
   "execution_count": 15,
   "id": "94b973f3",
   "metadata": {},
   "outputs": [
    {
     "name": "stdout",
     "output_type": "stream",
     "text": [
      "💾 Backup creado en: backup_V00/math_v0_db\n"
     ]
    },
    {
     "name": "stderr",
     "output_type": "stream",
     "text": [
      "2025-05-23T00:53:33.478-0600\twriting math_v0_db.acoustics to backup_V00/math_v0_db/acoustics.bson\n",
      "2025-05-23T00:53:33.480-0600\twriting math_v0_db.collection to backup_V00/math_v0_db/collection.bson\n",
      "2025-05-23T00:53:33.481-0600\tdone dumping math_v0_db.acoustics (1 document)\n",
      "2025-05-23T00:53:33.483-0600\tdone dumping math_v0_db.collection (15 documents)\n",
      "2025-05-23T00:53:33.483-0600\twriting math_v0_db.contenido to backup_V00/math_v0_db/contenido.bson\n",
      "2025-05-23T00:53:33.487-0600\tdone dumping math_v0_db.contenido (8 documents)\n"
     ]
    }
   ],
   "source": [
    "database.hacer_backup(directorio=\"backup_V00\")"
   ]
  },
  {
   "cell_type": "code",
   "execution_count": null,
   "id": "0efa7402",
   "metadata": {},
   "outputs": [],
   "source": []
  }
 ],
 "metadata": {
  "kernelspec": {
   "display_name": "mathdbmongo",
   "language": "python",
   "name": "python3"
  },
  "language_info": {
   "codemirror_mode": {
    "name": "ipython",
    "version": 3
   },
   "file_extension": ".py",
   "mimetype": "text/x-python",
   "name": "python",
   "nbconvert_exporter": "python",
   "pygments_lexer": "ipython3",
   "version": "3.10.14"
  }
 },
 "nbformat": 4,
 "nbformat_minor": 5
}
