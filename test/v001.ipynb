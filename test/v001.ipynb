{
 "cells": [
  {
   "cell_type": "code",
   "execution_count": 7,
   "id": "5ed88b35",
   "metadata": {},
   "outputs": [],
   "source": [
    "import os\n",
    "import sys\n",
    "\n",
    "# Asegúrate que la ruta raíz del proyecto esté en sys.path\n",
    "sys.path.append(os.path.abspath(\"..\"))"
   ]
  },
  {
   "cell_type": "code",
   "execution_count": 8,
   "id": "561a5d67",
   "metadata": {},
   "outputs": [
    {
     "data": {
      "text/plain": [
       "['admin', 'config', 'local', 'math_v0_db']"
      ]
     },
     "execution_count": 8,
     "metadata": {},
     "output_type": "execute_result"
    }
   ],
   "source": [
    "# eliminar_base_datos.py\n",
    "\n",
    "from pymongo import MongoClient\n",
    "\n",
    "\n",
    "def eliminar_base_datos(nombre_bd: str, uri: str = \"mongodb://localhost:27017/\") -> None:\n",
    "    \"\"\"\n",
    "    Elimina una base de datos completa en MongoDB.\n",
    "\n",
    "    Parámetros:\n",
    "    - nombre_bd (str): Nombre de la base de datos a eliminar.\n",
    "    - uri (str): URI de conexión a MongoDB (por defecto es localhost).\n",
    "    \"\"\"\n",
    "    client = MongoClient(uri)\n",
    "\n",
    "    if nombre_bd in client.list_database_names():\n",
    "        client.drop_database(nombre_bd)\n",
    "        print(f\"🗑️ Base de datos '{nombre_bd}' eliminada con éxito.\")\n",
    "    else:\n",
    "        print(f\"⚠️ La base de datos '{nombre_bd}' no existe.\")\n",
    "\n",
    "# Ejemplo de uso\n",
    "uri: str = \"mongodb://localhost:27017/\"\n",
    "client = MongoClient(uri)\n",
    "client.list_database_names()\n",
    "#client.drop_database(\"math_v0_db\")\n",
    "\n",
    "#eliminar_base_datos(\"math_v0_db\")"
   ]
  },
  {
   "cell_type": "code",
   "execution_count": 16,
   "id": "788d577a",
   "metadata": {},
   "outputs": [
    {
     "name": "stdout",
     "output_type": "stream",
     "text": [
      "✅ Base de datos 'math_v0_db' restaurada exitosamente desde 'backup_abril_20_2025'\n",
      "✅ Conectado a la base de datos 'math_v0_db', colección 'collection'\n"
     ]
    },
    {
     "name": "stderr",
     "output_type": "stream",
     "text": [
      "2025-04-28T09:33:40.244-0600\tThe --db and --collection flags are deprecated for this use-case; please use --nsInclude instead, i.e. with --nsInclude=${DATABASE}.${COLLECTION}\n",
      "2025-04-28T09:33:40.245-0600\tbuilding a list of collections to restore from backup_abril_20_2025/math_v0_db dir\n",
      "2025-04-28T09:33:40.245-0600\tdon't know what to do with file \"backup_abril_20_2025/math_v0_db/prelude.json\", skipping...\n",
      "2025-04-28T09:33:40.245-0600\treading metadata for math_v0_db.collection from backup_abril_20_2025/math_v0_db/collection.metadata.json\n",
      "2025-04-28T09:33:40.246-0600\tdropping collection math_v0_db.collection before restoring\n",
      "2025-04-28T09:33:40.280-0600\trestoring math_v0_db.collection from backup_abril_20_2025/math_v0_db/collection.bson\n",
      "2025-04-28T09:33:40.292-0600\tfinished restoring math_v0_db.collection (15 documents, 0 failures)\n",
      "2025-04-28T09:33:40.292-0600\tno indexes to restore for collection math_v0_db.collection\n",
      "2025-04-28T09:33:40.292-0600\t15 document(s) restored successfully. 0 document(s) failed to restore.\n"
     ]
    }
   ],
   "source": [
    "from db.mathmongo import conectar_y_restaurar\n",
    "\n",
    "# 1. Crear nueva base de datos (por ejemplo, 'matematica_avanzada')\n",
    "#db = MathMongoDB(db_name=\"math_v0_db\", collection_name=\"collection\")\n",
    "# 2. conectar de nuevo a la base de datos\n",
    "db = conectar_y_restaurar(db_name=\"math_v0_db\",\n",
    "                                      collection_name=\"collection\",\n",
    "                                      backup_dir=\"backup_abril_20_2025\")\n"
   ]
  },
  {
   "cell_type": "code",
   "execution_count": 74,
   "id": "25c468f8",
   "metadata": {},
   "outputs": [
    {
     "name": "stdout",
     "output_type": "stream",
     "text": [
      "✅ Insertado: formato_ejemplo.md\n",
      "📥 Insertados 1 documentos desde './data'\n"
     ]
    }
   ],
   "source": [
    "db.insertar_desde_directorio(\"./data\")  # ← ajusta la ruta si usas otra"
   ]
  },
  {
   "cell_type": "code",
   "execution_count": 10,
   "id": "0eed3211",
   "metadata": {},
   "outputs": [
    {
     "name": "stdout",
     "output_type": "stream",
     "text": [
      "📄 Campos tipo texto en los documentos:\n",
      "                         id       tipo                               titulo                            categorias                               tags                                                                                                                               referencia creado_a_partir_de inspirado_en                                                  enlaces_entrada enlaces_salida                                                                                                                                                                                                                                                                                                                                                                                                                                                                                                                                                                                                                                                                                                                                                                                                                                                                                                                                                                                                                                                                                                                                                                                                                                                                                                                                                                                                                                                                                                                                                                        contenido_latex\n",
      "        def:conjuntosaaa001 definicion                             Conjunto        Topología, Teoria de conjuntos                 conjunto, notación                  bibkey: rudin1987real; autor: Rudin, W.; año: 1987; obra: Real and Complex Analysis; edición: 3; capitulo: 1; pagina: 6      -, -, -, -, -     -, --, -                                                    -, -, -, -, -  -, -, -, -, -                                                                                                                                                                                                                                                                                                                                                                                                                                                                                                                                                                                                                                                                                                                                                                           \\begin{definition}\\nDenotaremos  $\\{x : P \\}$ al conjunto de todos los elementos que satisfacen la propiedad $P$. El símbolo $\\emptyset$ se usará para el conjunto que no tiene ningún elemento. Por otro lado, las palabras colección, familia y clase serán usadas como sinónimo. La siguiente notación nos será útil para las demostraciones: \\n\\begin{enumerate}\\n\\item Escribiremos $x$ $\\in$ $A$ si $x$ es un miembro de $A$, en otro caso escribiremos $x$ $\\notin$ $A$.\\n\\item Si $B$ es un subconjunto de $A$, lo denotaremos como $B$ $\\subset$ $A$.\\n\\item Si $A \\subset B$ y $B \\subset A$, entonces $A  = B$.\\n\\item Si $A \\subset B$ pero $A \\neq B$, diremos que $A$ es un conjunto propio de A.\\n\\item Para todo conjunto $A$, $\\empytset$ $\\subset$ $A$.\\n\\end{enumerate}\\n\\end{definition}\n",
      "        def:conjuntosaaa002 definicion Uniones e intersecciones arbitrarias        Topología, Teoria de conjuntos                 conjunto, notación                  bibkey: rudin1987real; autor: Rudin, W.; año: 1987; obra: Real and Complex Analysis; edición: 3; capitulo: 1; pagina: 6      -, -, -, -, -     -, --, -                                  def:conjuntosaaa001, -, -, -, -  -, -, -, -, -                                                                                                                                                                                                                                                                                                                                                                                                                                                                                                                                                                                                                                          \\begin{definition}\\nDenotaremos  con $ A \\cup B$   y $A \\cap B$ como la unión y la intersección de $A$ y $B$ respectivamente. Luego, si $\\{ A_{\\alpha}\\}$ es una colección de conjuntos, donde $\\alpha$ toma valores en algún conjunto índice $I$, escribiremos\\n\\begin{enumerate}\\n\\item $\\bigcup_{\\alpha \\in I} A_{\\alpha}$ para la unión de conjuntos de $\\{ A_{\\alpha}\\}$, donde\\n\\[ \\bigcup_{\\alpha \\in I} A_{\\alpha} := \\{ x :\\exists \\alpha \\in I: x \\in A_{\\alpha} \\} \\]\\n\\item $\\bigcap_{\\alpha \\in I} A_{\\alpha}$ para la intersección de conjuntos de $\\{ A_{\\alpha}\\}$.\\n\\[ \\bigcap_{\\alpha \\in I} A_{\\alpha} := \\{ x :\\forall \\alpha \\in I: x \\in A_{\\alpha} \\} \\]\\n\\item  Si $I$ es el conjunto de los enteros positivos, entonces\\n\\[ \\bigcup_{\\alpha \\in I} A_{\\alpha} = \\bigcup_{i=1}^{\\infty} A_{\\alpha} \\]\\n\\[ \\bigcap_{\\alpha \\in I} A_{\\alpha} = \\bigcap_{i=1}^{\\infty} A_{\\alpha} \\]\\n\\end{enumerate}\\n\\end{definition}\n",
      "        def:conjuntosaaa003 definicion       Familia de conjuntos disjuntos        Topología, Teoria de conjuntos                 conjunto, notación                  bibkey: rudin1987real; autor: Rudin, W.; año: 1987; obra: Real and Complex Analysis; edición: 3; capitulo: 1; pagina: 7      -, -, -, -, -     -, --, -                                     def:conjuntosaaa001, -, -, -  -, -, -, -, -                                                                                                                                                                                                                                                                                                                                                                                                                                                                                                                                                                                                                                                                                                                                                                                                                                                                                                                                                                                                                                                                                                                                                                                                                                                                                           \\begin{definition}\\nSi en una familia de conjuntos $\\{A_{\\alpha}\\}$ con $\\alpha \\in I$ se cumple que \\n\\[ \\forall \\alpha, \\beta \\in I  \\land \\alpha \\neq \\beta: A_{\\alpha} \\cap A_{\\beta} = \\emptyset \\]\\nentonces $\\{A_{\\alpha}\\}$ es una familia de conjuntos disjuntos.\\n\\end{definition}\n",
      "        def:conjuntosaaa004 definicion              Diferencia de conjuntos        Topología, Teoria de conjuntos                 conjunto, notación                  bibkey: rudin1987real; autor: Rudin, W.; año: 1987; obra: Real and Complex Analysis; edición: 3; capitulo: 1; pagina: 7      -, -, -, -, -     -, --, -                                     def:conjuntosaaa001, -, -, -  -, -, -, -, -                                                                                                                                                                                                                                                                                                                                                                                                                                                                                                                                                                                                                                                                                                                                                                                                                                                                                                                                                                                                                                                                                                                                                                                                                                                                                                     \\begin{definition}\\nDenotamos con $A \\setminus B = \\{x : x \\in A \\notin B \\}$ como el complemento de $A$ respecto de $B$. Además, denotamos el complemento de $A$ por $A^{c}$ cuando es claro con respecto a qué conjunto mayor se está tomando el complemento. \\n\\end{definition}\n",
      "        def:conjuntosaaa005 definicion                  Producto Cartesiano        Topología, Teoria de conjuntos                 conjunto, notación                  bibkey: rudin1987real; autor: Rudin, W.; año: 1987; obra: Real and Complex Analysis; edición: 3; capitulo: 1; pagina: 7      -, -, -, -, -     -, --, -                                     def:conjuntosaaa001, -, -, -  -, -, -, -, -                                                                                                                                                                                                                                                                                                                                                                                                                                                                                                                                                                                                                                                                                                                                                                                                                                                                                                                                                                                                                                                                                                                                                                                                                                                                                                   \\begin{definition}\\nDado una familia de conjuntos $\\{A_{n}\\}$ con $n \\in \\{1,...,m\\}$ y $m$ entero positivo. Definimos el producto cartesiano\\n\\[ {\\Large\\times\\normalsize}_{i=1}^{n}A_{i} :=\\{(a_{1},...,a_{m}) | a_{i} \\in A_{i} \\forall i \\in \\{1,...,m\\} \\} \\]\\n\\end{definition}\n",
      "        def:conjuntosaaa006 definicion                 Orden en un conjunto        Topología, Conjuntos Ordenados                              orden bibkey: rudin1964principles,; autor: Rudin, W.; año: 1964; obra: Principles of Mathematical Analysis; edición: 3; capitulo: 1; pagina: 3      -, -, -, -, -     -, --, -                                                                   -, -, -, -, -                                                                                                                                                                                                                                                                                                                                                                                                                                                                                                                                                                                                                                                                                                                                                                                                                                                                                                                                                                                               \\begin{definition}\\nSea $S$ un conjunto. Un orden en $S$ es una relación , denotada por $<$ con las siguientes dos propiedades:\\n\\begin{enumerate}\\n\\item Si $x \\in S \\land y \\in S$, entonces una y solo una de las siguientes afirmaciones es cierta\\n\\[x < y, \\;\\; x = y, \\;\\; y < x \\]\\n\\item Si $x, y, z \\in S$ y $x < y,$ e  $y < z$, entonces $x < z$.\\n\\end{enumerate}\\nA la afirmación $x < y$ puede leerse de maneras diferentes: \\n\\begin{itemize}\\n\\item $x$ es menor que $y$.\\n\\item $x$ es mas pequeño que $y$.\\n\\item $x$ precede a $y$.\\n\\end{itemize}\\n\\end{definition}\n",
      "        def:conjuntosaaa007 definicion                    Conjunto Ordenado Topología, Conjuntos Ordenados, Orden                              orden bibkey: rudin1964principles,; autor: Rudin, W.; año: 1964; obra: Principles of Mathematical Analysis; edición: 3; capitulo: 1; pagina: 3      -, -, -, -, -     -, --, -                def:conjuntosaaa006, def:conjuntosaaa001, -, -, -  -, -, -, -, -                                                                                                                                                                                                                                                                                                                                                                                                                                                                                                                                                                                                                                                                                                                                                                                                                                                                                                                                                                                                                                                                                                                                                                                                                                                                                                                                                                                                                                                                            \\begin{definition}\\nUn conjunto ordenado es un conjunto $S$ donde un orden está definido.\\n\\end{definition}\n",
      "exam:conjuntoordenadoaaa001    ejemplo                   Números racionales Topología, Conjuntos Ordenados, Orden                              orden bibkey: rudin1964principles,; autor: Rudin, W.; año: 1964; obra: Principles of Mathematical Analysis; edición: 3; capitulo: 1; pagina: 3      -, -, -, -, -     -, --, -                                  def:conjuntosaaa007, -, -, -, -  -, -, -, -, -                                                                                                                                                                                                                                                                                                                                                                                                                                                                                                                                                                                                                                                                                                                                                                                                                                                                                                                                                                                                                                                                                                                                                                                                                                                                                                                                                                                                                          \\begin{example}\\nLos números racionales $\\mathbb{Q}$ es un conjunto ordenado si $r < s$ se define como $s - r$ es un número racional positivo.\\n\\end{example}\n",
      "        def:conjuntosaaa008 definicion                        Cota superior      Análisis real, Espacios métricos Cota, Cota superior, Cota inferior bibkey: rudin1964principles,; autor: Rudin, W.; año: 1964; obra: Principles of Mathematical Analysis; edición: 3; capitulo: 1; pagina: 3      -, -, -, -, -     -, --, -                                  def:conjuntosaaa007, -, -, -, -  -, -, -, -, -                                                                                                                                                                                                                                                                                                                                                                                                                                                                                                                                                                                                                                                                                                                                                                                                                                                                                                                                                                                                                                                                                                                                                                                                                                                                                          \\begin{example}\\nSuponga que $S$  es un conjunto ordenado y  $E \\subset S$. Si existe un elemento $\\beta \\in S$ tal que para todo $x \\in E$ se tiene que  $x \\leq \\beta$, entonces diremos que $E$ está acotado superiormente y llamaremos a $\\beta$ una cota superior de $E$.\\n\\end{example}\n",
      "        def:conjuntosaaa009 definicion                        Cota inferior      Análisis real, Espacios métricos Cota, Cota superior, Cota inferior bibkey: rudin1964principles,; autor: Rudin, W.; año: 1964; obra: Principles of Mathematical Analysis; edición: 3; capitulo: 1; pagina: 3      -, -, -, -, -     -, --, -                                  def:conjuntosaaa007, -, -, -, -  -, -, -, -, -                                                                                                                                                                                                                                                                                                                                                                                                                                                                                                                                                                                                                                                                                                                                                                                                                                                                                                                                                                                                                                                                                                                                                                                                                                                                                       \\begin{example}\\nSuponga que $S$  es un conjunto ordenado y  $E \\subset S$. Si existe un elemento $\\alpha \\in S$ tal que para todo $x \\in E$ se tiene que  $\\alpha \\leq x$, entonces diremos que $E$ está acotado inferiormente y llamaremos a $\\alpha$ una cota inferior de $E$.\\n\\end{example}\n",
      "        def:conjuntosaaa010 definicion                 Supremo del conjunto      Análisis real, Espacios métricos Cota, Cota superior, Cota inferior bibkey: rudin1964principles,; autor: Rudin, W.; año: 1964; obra: Principles of Mathematical Analysis; edición: 3; capitulo: 1; pagina: 4      -, -, -, -, -     -, --, -                def:conjuntosaaa008, def:conjuntosaaa007, -, -, -  -, -, -, -, -                                                                                                                                                                                                                                                                                                                                                                                                                                                                                                                                                                                                                                                                                                                                                                                                                                                                                                                                                                                                                                                                                    \\begin{example}\\nSuponga que S es un conjunto ordenado, $E \\subset S$ y $E$ es un conjunto acotado superiormente. Además, suponga que existe $\\alpha \\in S$  con las siguientes propiedades:\\n\\begin{enumerate}\\n\\item $\\alpha$ es una cota superior de $E$.\\n\\item Si $\\gamma < \\alpha$, entonces $\\gamma$ no es una cota superior de $E$.\\n\\end{enumerate}\\nEntonces $\\alpha$ es llamado la mínima cota superior de $E$ o el supremo de $E$ y escribimos\\n\\[ \\alpha = sup\\;\\;E. \\]\\n\\end{example}\n",
      "        def:conjuntosaaa011 definicion                  Ínfimo del conjunto      Análisis real, Espacios métricos Cota, Cota superior, Cota inferior bibkey: rudin1964principles,; autor: Rudin, W.; año: 1964; obra: Principles of Mathematical Analysis; edición: 3; capitulo: 1; pagina: 4      -, -, -, -, -     -, --, -                def:conjuntosaaa009, def:conjuntosaaa007, -, -, -  -, -, -, -, -                                                                                                                                                                                                                                                                                                                                                                                                                                                                                                                                                                                                                                                                                                                                                                                                                                                                                                                                                                                                                                                                                     \\begin{example}\\nSuponga que S es un conjunto ordenado, $E \\subset S$ y $E$ es un conjunto acotado inferiormente. Además, suponga que existe $\\alpha \\in S$  con las siguientes propiedades:\\n\\begin{enumerate}\\n\\item $\\alpha$ es una cota inferior de $E$.\\n\\item Si $\\alpha < \\gamma$, entonces $\\gamma$ no es una cota inferior de $E$.\\n\\end{enumerate}\\nEntonces $\\alpha$ es llamado la mínima cota superior de $E$ o el ínfimo de $E$ y escribimos\\n\\[ \\alpha = sup\\;\\;E. \\]\\n\\end{example}\n",
      "        def:conjuntosaaa012 definicion Propiedad de la mínima cota superior      Análisis real, Espacios métricos              Supremo, Ínfimo, Cota bibkey: rudin1964principles,; autor: Rudin, W.; año: 1964; obra: Principles of Mathematical Analysis; edición: 3; capitulo: 1; pagina: 4      -, -, -, -, -     -, --, -                def:conjuntosaaa007, def:conjuntosaaa010, -, -, -  -, -, -, -, -                                                                                                                                                                                                                                                                                                                                                                                                                                                                                                                                                                                                                                                                                                                                                                                                                                                                                                                                                                                                                                                                                                                                                                                                                                                                                                                                                                     \\begin{example}\\nUn conjunto ordenado $S$ tiene la propiedad de  la mínima cota inferior si la siguiente afirmación es cierta:\\n\\nSi $E \\subset S$ y $E \\neq \\emptyset$, entonces $sup\\;\\;E \\in S$.\\n\\end{example}\n",
      "        teo:conjuntosaaa001    teorema                Existencia del ínfimo      Análisis real, Espacios métricos        Supremo, Ínfimo, Existencia bibkey: rudin1964principles,; autor: Rudin, W.; año: 1964; obra: Principles of Mathematical Analysis; edición: 3; capitulo: 1; pagina: 5      -, -, -, -, -     -, --, - def:conjuntosaaa010, def:conjuntosaaa011, def:conjuntosaaa012, -  -, -, -, -, -                                                                                                                                                                                                                                                                                                                                           \\begin{theorem}\\nSuponga que S es un conjunto ordenado con la propiedad de la menor cota superior, $\\emptyset \\neq B \\subset S$, y $B$ es una cota inferior. \\nSea $L$ el conjunto de todas las cotas inferiores de $B$. Entonces\\n\\[ \\alpha = sup\\;\\; L\\]\\nexiste en $S$, $\\alpha = inf\\;B \\in S.$ \\n\\end{theorem}\\n\\n\\begin{proof}\\nDado que $B$ está acotado inferiormente, $L$ es no vacio. Por otro lado, $L$ consiste en en exactamente aquellas $y \\in S$ que satisfacen la desigualdad\\n\\[\\forall x \\in B: y \\leq x.\\]\\nPor lo anterior, observamos que  todo elemento en $B$ es una cota superior de $L$. Entonces, $L$ está acotado superiormente. Como $L \\subset S$, por\\nhipótesis $\\alpha = sup \\;\\; L \\in S$. \\n\\begin{enumerate}\\n\\item Si $\\gamma \\leq \\alpha$, entonces $\\gamma$ no es una cota superior de $L$ y por lo tanto, $\\gamma \\notin B$. De ahi que $\\forall x \\in B: \\alpha \\leq x$.\\nY por definición $\\alpha \\in B.$\\n\\item Si $\\alpha < \\beta$, entonces $\\beta \\notin L$ ya que $\\alpha$  es una cota superior de $L$.\\n\\end{enumerate}\\nEn conclusión, $\\alpha$ es una cota inferior de $B$ pero todo elemento $\\beta > \\apha$ no es  cota inferior de $B$. Por lo tanto $\\alpha = inf\\;\\;B$.\\n\\end{proof}\n",
      "           def:camposaaa001 definicion                               Campos                       Anillos, Grupos                             Campos bibkey: rudin1964principles,; autor: Rudin, W.; año: 1964; obra: Principles of Mathematical Analysis; edición: 3; capitulo: 1; pagina: 5      -, -, -, -, -     -, --, -                                                    -, -, -, -, -  -, -, -, -, - \\begin{definition}\\n\\nUn \\textbf{campo} es un conjunto \\( F \\) con dos operaciones, llamadas \\textit{suma} y \\textit{multiplicación}, que satisfacen los siguientes llamados “axiomas de campo” (A), (M) y (D):\\n\\n\\subsection*{(A) Axiomas para la suma}\\n\\begin{itemize}\\n  \\item[(A1)] Si \\( x \\in F \\) y \\( y \\in F \\), entonces su suma \\( x + y \\in F \\).\\n  \\item[(A2)] La suma es conmutativa: \\( x + y = y + x \\) para todos \\( x, y \\in F \\).\\n  \\item[(A3)] La suma es asociativa: \\( (x + y) + z = x + (y + z) \\) para todos \\( x, y, z \\in F \\).\\n  \\item[(A4)] \\( F \\) contiene un elemento \\( 0 \\) tal que \\( 0 + x = x \\) para todo \\( x \\in F \\).\\n  \\item[(A5)] A cada \\( x \\in F \\) le corresponde un elemento \\( -x \\in F \\) tal que\\n  \\[\\n  x + (-x) = 0.\\n  \\]\\n\\end{itemize}\\n\\n\\subsection*{(M) Axiomas para la multiplicación}\\n\\begin{itemize}\\n  \\item[(M1)] Si \\( x \\in F \\) y \\( y \\in F \\), entonces su producto \\( xy \\in F \\).\\n  \\item[(M2)] La multiplicación es conmutativa: \\( xy = yx \\) para todos \\( x, y \\in F \\).\\n  \\item[(M3)] La multiplicación es asociativa: \\( (xy)z = x(yz) \\) para todos \\( x, y, z \\in F \\).\\n  \\item[(M4)] \\( F \\) contiene un elemento \\( 1 \\ne 0 \\) tal que \\( 1x = x \\) para todo \\( x \\in F \\).\\n  \\item[(M5)] Si \\( x \\in F \\) y \\( x \\ne 0 \\), entonces existe un elemento \\( 1/x \\in F \\) tal que\\n  \\[\\n  x \\cdot (1/x) = 1.\\n  \\]\\n\\end{itemize}\\n\\n\\subsection*{(D) La ley distributiva}\\nLa ley distributiva\\n\\[\\nx(y + z) = xy + xz\\n\\]\\nse cumple para todos \\( x, y, z \\in F \\).\\n\\n\\end{definition}\n"
     ]
    }
   ],
   "source": [
    "db.mostrar_campos_texto()\n"
   ]
  },
  {
   "cell_type": "code",
   "execution_count": null,
   "id": "ab305dad",
   "metadata": {},
   "outputs": [
    {
     "name": "stdout",
     "output_type": "stream",
     "text": [
      "✏️ Documento 'exam:EDITABLE' actualizado.\n"
     ]
    }
   ],
   "source": [
    "db.editar_id(\"exam:EDITABLE\",\n",
    "            {'id': 'def:espaciovectorialaaa001'}\n",
    "            )"
   ]
  },
  {
   "cell_type": "code",
   "execution_count": 77,
   "id": "242b8c34",
   "metadata": {},
   "outputs": [
    {
     "name": "stdout",
     "output_type": "stream",
     "text": [
      "📝 Archivo .md generado: ./exportados/def__espaciovectorialaaa001.md\n"
     ]
    }
   ],
   "source": [
    "db.exportar_a_md(\"def:espaciovectorialaaa001\")"
   ]
  },
  {
   "cell_type": "code",
   "execution_count": 80,
   "id": "3a5a8376",
   "metadata": {},
   "outputs": [
    {
     "name": "stdout",
     "output_type": "stream",
     "text": [
      "✏️ Documento 'def:espaciovectorialaaa001' actualizado con los siguientes cambios:\n",
      "campo anterior      nuevo\n",
      " tipo  example definicion\n"
     ]
    }
   ],
   "source": [
    "db.editar_documento(\"def:espaciovectorialaaa001\",\n",
    "                    \"/home/enrique/math-knowledge-database/test/exportados/def__espaciovectorialaaa001.md\")"
   ]
  },
  {
   "cell_type": "code",
   "execution_count": 12,
   "id": "4db1f2e8",
   "metadata": {},
   "outputs": [
    {
     "name": "stdout",
     "output_type": "stream",
     "text": [
      "🧠 Nodos: 15 | Aristas: 18\n",
      "✅ Grafo exportado en: grafo_espacios_metricos.html\n"
     ]
    }
   ],
   "source": [
    "from visualizacion.grafoconocimiento import (\n",
    "    GrafoConocimiento,  # Asumiendo que tienes esta clase en grafo_conocimiento.py\n",
    ")\n",
    "\n",
    "# Paso 2: Obtener todos los documentos\n",
    "documentos = db.mostrar_todos()\n",
    "\n",
    "# Paso 3: Crear grafo con esos documentos\n",
    "grafo = GrafoConocimiento(documentos)\n",
    "\n",
    "# Paso 4: (Opcional) Filtrar solo ciertos tipos o categorías\n",
    "# grafo.filtrar(categorias=[\"Espacios métricos\"], tipos=[\"teorema\", \"lema\", \"corolario\"])\n",
    "\n",
    "# Paso 5: Construir el grafo\n",
    "grafo.construir_grafo()\n",
    "\n",
    "# Paso 6: Exportar a HTML interactivo\n",
    "grafo.exportar_html(\"grafo_espacios_metricos.html\")\n"
   ]
  },
  {
   "cell_type": "code",
   "execution_count": 14,
   "id": "e8e48106",
   "metadata": {},
   "outputs": [
    {
     "name": "stdout",
     "output_type": "stream",
     "text": [
      "✅ ExportadorLatex listo (sin MongoDB)\n",
      "This is pdfTeX, Version 3.141592653-2.6-1.40.22 (TeX Live 2022/dev/Debian) (preloaded format=pdflatex)\n",
      " restricted \\write18 enabled.\n",
      "entering extended mode\n",
      "(./exportados_pdf/teo__conjuntosaaa001.tex\n",
      "LaTeX2e <2021-11-15> patch level 1\n",
      "L3 programming layer <2022-01-21>\n",
      "(/usr/share/texlive/texmf-dist/tex/latex/base/article.cls\n",
      "Document Class: article 2021/10/04 v1.4n Standard LaTeX document class\n",
      "(/usr/share/texlive/texmf-dist/tex/latex/base/size12.clo))\n",
      "(./exportados_pdf/miestilo.sty\n",
      "(/usr/share/texlive/texmf-dist/tex/latex/base/inputenc.sty)\n",
      "(/usr/share/texlive/texmf-dist/tex/latex/base/fontenc.sty)\n",
      "(/usr/share/texmf/tex/latex/lm/lmodern.sty)\n",
      "(/usr/share/texlive/texmf-dist/tex/latex/base/fontenc.sty\n",
      "(/usr/share/texmf/tex/latex/lm/t1lmr.fd))\n",
      "(/usr/share/texlive/texmf-dist/tex/generic/babel/babel.sty\n",
      "(/usr/share/texlive/texmf-dist/tex/generic/babel/txtbabel.def)\n",
      "(/usr/share/texlive/texmf-dist/tex/generic/babel-spanish/spanish.ldf))\n",
      "(/usr/share/texlive/texmf-dist/tex/latex/base/textcomp.sty)\n",
      "(/usr/share/texlive/texmf-dist/tex/latex/enumitem/enumitem.sty)\n",
      "(/usr/share/texlive/texmf-dist/tex/latex/amsmath/amsmath.sty\n",
      "For additional information on amsmath, use the `?' option.\n",
      "(/usr/share/texlive/texmf-dist/tex/latex/amsmath/amstext.sty\n",
      "(/usr/share/texlive/texmf-dist/tex/latex/amsmath/amsgen.sty))\n",
      "(/usr/share/texlive/texmf-dist/tex/latex/amsmath/amsbsy.sty)\n",
      "(/usr/share/texlive/texmf-dist/tex/latex/amsmath/amsopn.sty))\n",
      "(/usr/share/texlive/texmf-dist/tex/latex/amsfonts/amssymb.sty\n",
      "(/usr/share/texlive/texmf-dist/tex/latex/amsfonts/amsfonts.sty))\n",
      "(/usr/share/texlive/texmf-dist/tex/latex/geometry/geometry.sty\n",
      "(/usr/share/texlive/texmf-dist/tex/latex/graphics/keyval.sty)\n",
      "(/usr/share/texlive/texmf-dist/tex/generic/iftex/ifvtex.sty\n",
      "(/usr/share/texlive/texmf-dist/tex/generic/iftex/iftex.sty)))\n",
      "(/usr/share/texlive/texmf-dist/tex/latex/xcolor/xcolor.sty\n",
      "(/usr/share/texlive/texmf-dist/tex/latex/graphics-cfg/color.cfg)\n",
      "(/usr/share/texlive/texmf-dist/tex/latex/graphics-def/pdftex.def))\n",
      "(/usr/share/texlive/texmf-dist/tex/latex/titlesec/titlesec.sty)\n",
      "(/usr/share/texlive/texmf-dist/tex/latex/graphics/graphicx.sty\n",
      "(/usr/share/texlive/texmf-dist/tex/latex/graphics/graphics.sty\n",
      "(/usr/share/texlive/texmf-dist/tex/latex/graphics/trig.sty)\n",
      "(/usr/share/texlive/texmf-dist/tex/latex/graphics-cfg/graphics.cfg)))\n",
      "(/usr/share/texlive/texmf-dist/tex/latex/hyperref/hyperref.sty\n",
      "(/usr/share/texlive/texmf-dist/tex/generic/ltxcmds/ltxcmds.sty)\n",
      "(/usr/share/texlive/texmf-dist/tex/generic/pdftexcmds/pdftexcmds.sty\n",
      "(/usr/share/texlive/texmf-dist/tex/generic/infwarerr/infwarerr.sty))\n",
      "(/usr/share/texlive/texmf-dist/tex/generic/kvsetkeys/kvsetkeys.sty)\n",
      "(/usr/share/texlive/texmf-dist/tex/generic/kvdefinekeys/kvdefinekeys.sty)\n",
      "(/usr/share/texlive/texmf-dist/tex/generic/pdfescape/pdfescape.sty)\n",
      "(/usr/share/texlive/texmf-dist/tex/latex/hycolor/hycolor.sty)\n",
      "(/usr/share/texlive/texmf-dist/tex/latex/letltxmacro/letltxmacro.sty)\n",
      "(/usr/share/texlive/texmf-dist/tex/latex/auxhook/auxhook.sty)\n",
      "(/usr/share/texlive/texmf-dist/tex/latex/kvoptions/kvoptions.sty)\n",
      "(/usr/share/texlive/texmf-dist/tex/latex/hyperref/pd1enc.def)\n",
      "(/usr/share/texlive/texmf-dist/tex/latex/hyperref/hyperref-langpatches.def)\n",
      "(/usr/share/texlive/texmf-dist/tex/generic/intcalc/intcalc.sty)\n",
      "(/usr/share/texlive/texmf-dist/tex/generic/etexcmds/etexcmds.sty)\n",
      "(/usr/share/texlive/texmf-dist/tex/latex/hyperref/puenc.def)\n",
      "(/usr/share/texlive/texmf-dist/tex/latex/url/url.sty)\n",
      "(/usr/share/texlive/texmf-dist/tex/generic/bitset/bitset.sty\n",
      "(/usr/share/texlive/texmf-dist/tex/generic/bigintcalc/bigintcalc.sty))\n",
      "(/usr/share/texlive/texmf-dist/tex/latex/base/atbegshi-ltx.sty))\n",
      "(/usr/share/texlive/texmf-dist/tex/latex/hyperref/hpdftex.def\n",
      "(/usr/share/texlive/texmf-dist/tex/latex/base/atveryend-ltx.sty)\n",
      "(/usr/share/texlive/texmf-dist/tex/latex/rerunfilecheck/rerunfilecheck.sty\n",
      "(/usr/share/texlive/texmf-dist/tex/generic/uniquecounter/uniquecounter.sty)))\n",
      "(/usr/share/texlive/texmf-dist/tex/latex/amscls/amsthm.sty))\n",
      "(/usr/share/texlive/texmf-dist/tex/latex/l3backend/l3backend-pdftex.def)\n",
      "No file teo__conjuntosaaa001.aux.\n",
      "*geometry* driver: auto-detecting\n",
      "*geometry* detected driver: pdftex\n",
      "(/usr/share/texlive/texmf-dist/tex/context/base/mkii/supp-pdf.mkii\n",
      "[Loading MPS to PDF converter (version 2006.09.02).]\n",
      ") (/usr/share/texlive/texmf-dist/tex/latex/epstopdf-pkg/epstopdf-base.sty\n",
      "(/usr/share/texlive/texmf-dist/tex/latex/latexconfig/epstopdf-sys.cfg))\n",
      "(/usr/share/texlive/texmf-dist/tex/latex/hyperref/nameref.sty\n",
      "(/usr/share/texlive/texmf-dist/tex/latex/refcount/refcount.sty)\n",
      "(/usr/share/texlive/texmf-dist/tex/generic/gettitlestring/gettitlestring.sty))\n",
      "(/usr/share/texmf/tex/latex/lm/t1lmss.fd)\n",
      "(/usr/share/texmf/tex/latex/lm/ot1lmr.fd)\n",
      "(/usr/share/texmf/tex/latex/lm/omllmm.fd)\n",
      "(/usr/share/texmf/tex/latex/lm/omslmsy.fd)\n",
      "(/usr/share/texmf/tex/latex/lm/omxlmex.fd)\n",
      "(/usr/share/texlive/texmf-dist/tex/latex/amsfonts/umsa.fd)\n",
      "(/usr/share/texlive/texmf-dist/tex/latex/amsfonts/umsb.fd)\n",
      "! Undefined control sequence.\n",
      "<argument> \\csname system@active>\\endcsname \\apha \n",
      "                                                  \n",
      "l.24 ...r de $B$ pero todo elemento $\\beta > \\apha\n",
      "                                                  $ no es  cota inferior de ...\n",
      "\n",
      "[1{/var/lib/texmf/fonts/map/pdftex/updmap/pdftex.map}]\n",
      "(./exportados_pdf/teo__conjuntosaaa001.aux)\n",
      "\n",
      "Package rerunfilecheck Warning: File `teo__conjuntosaaa001.out' has changed.\n",
      "(rerunfilecheck)                Rerun to get outlines right\n",
      "(rerunfilecheck)                or use package `bookmark'.\n",
      "\n",
      " )\n",
      "(see the transcript file for additional information){/usr/share/texmf/fonts/enc\n",
      "/dvips/lm/lm-ec.enc}{/usr/share/texmf/fonts/enc/dvips/lm/lm-mathit.enc}{/usr/sh\n",
      "are/texmf/fonts/enc/dvips/lm/lm-rm.enc}{/usr/share/texmf/fonts/enc/dvips/lm/lm-\n",
      "mathsy.enc}</usr/share/texmf/fonts/type1/public/lm/lmbx12.pfb></usr/share/texmf\n",
      "/fonts/type1/public/lm/lmmi12.pfb></usr/share/texmf/fonts/type1/public/lm/lmr12\n",
      ".pfb></usr/share/texmf/fonts/type1/public/lm/lmri12.pfb></usr/share/texmf/fonts\n",
      "/type1/public/lm/lmssbx10.pfb></usr/share/texmf/fonts/type1/public/lm/lmsy10.pf\n",
      "b>\n",
      "Output written on ./exportados_pdf/teo__conjuntosaaa001.pdf (1 page, 113377 byt\n",
      "es).\n",
      "Transcript written on ./exportados_pdf/teo__conjuntosaaa001.log.\n",
      "❌ Error al compilar el archivo LaTeX.\n"
     ]
    }
   ],
   "source": [
    "from export.exportadorlatex import ExportadorLatex\n",
    "\n",
    "# Exportar a PDF usando LaTeX\n",
    "exportador = ExportadorLatex(plantilla_path=\"../export/templates/miestilo.sty\")\n",
    "data = db.buscar_por_id(doc_id=\"teo:conjuntosaaa001\")\n",
    "exportador.exportar_desde_dict(data,salida=\"./exportados_pdf\")"
   ]
  },
  {
   "cell_type": "code",
   "execution_count": 15,
   "id": "f35a6237",
   "metadata": {},
   "outputs": [
    {
     "name": "stdout",
     "output_type": "stream",
     "text": [
      "💾 Backup creado en: backup_abril_20_2025/math_v0_db\n"
     ]
    },
    {
     "name": "stderr",
     "output_type": "stream",
     "text": [
      "2025-04-28T09:32:20.484-0600\twriting math_v0_db.collection to backup_abril_20_2025/math_v0_db/collection.bson\n",
      "2025-04-28T09:32:20.486-0600\tdone dumping math_v0_db.collection (15 documents)\n"
     ]
    }
   ],
   "source": [
    "db.hacer_backup(directorio=\"backup_abril_20_2025\")"
   ]
  },
  {
   "cell_type": "code",
   "execution_count": null,
   "id": "b1b08e6f",
   "metadata": {},
   "outputs": [],
   "source": []
  }
 ],
 "metadata": {
  "kernelspec": {
   "display_name": "Python 3",
   "language": "python",
   "name": "python3"
  },
  "language_info": {
   "codemirror_mode": {
    "name": "ipython",
    "version": 3
   },
   "file_extension": ".py",
   "mimetype": "text/x-python",
   "name": "python",
   "nbconvert_exporter": "python",
   "pygments_lexer": "ipython3",
   "version": "3.10.14"
  }
 },
 "nbformat": 4,
 "nbformat_minor": 5
}
