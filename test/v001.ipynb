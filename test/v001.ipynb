{
 "cells": [
  {
   "cell_type": "code",
   "execution_count": 29,
   "id": "5ed88b35",
   "metadata": {},
   "outputs": [],
   "source": [
    "import sys, os\n",
    "sys.path.append(os.path.abspath(\"..\"))"
   ]
  },
  {
   "cell_type": "code",
   "execution_count": null,
   "id": "561a5d67",
   "metadata": {},
   "outputs": [],
   "source": [
    "# eliminar_base_datos.py\n",
    "\n",
    "from pymongo import MongoClient\n",
    "\n",
    "def eliminar_base_datos(nombre_bd: str, uri: str = \"mongodb://localhost:27017/\") -> None:\n",
    "    \"\"\"\n",
    "    Elimina una base de datos completa en MongoDB.\n",
    "\n",
    "    Parámetros:\n",
    "    - nombre_bd (str): Nombre de la base de datos a eliminar.\n",
    "    - uri (str): URI de conexión a MongoDB (por defecto es localhost).\n",
    "    \"\"\"\n",
    "    client = MongoClient(uri)\n",
    "\n",
    "    if nombre_bd in client.list_database_names():\n",
    "        client.drop_database(nombre_bd)\n",
    "        print(f\"🗑️ Base de datos '{nombre_bd}' eliminada con éxito.\")\n",
    "    else:\n",
    "        print(f\"⚠️ La base de datos '{nombre_bd}' no existe.\")\n",
    "\n",
    "# Ejemplo de uso\n",
    "uri: str = \"mongodb://localhost:27017/\"\n",
    "client = MongoClient(uri)\n",
    "client.list_database_names()\n",
    "#client.drop_database(\"math_v0_db\")\n",
    "\n",
    "#eliminar_base_datos(\"math_v0_db\")"
   ]
  },
  {
   "cell_type": "code",
   "execution_count": 66,
   "id": "0391a5dd",
   "metadata": {},
   "outputs": [
    {
     "data": {
      "text/plain": [
       "['admin', 'config', 'local', 'math_v0_db']"
      ]
     },
     "execution_count": 66,
     "metadata": {},
     "output_type": "execute_result"
    }
   ],
   "source": [
    "client.list_database_names()"
   ]
  },
  {
   "cell_type": "code",
   "execution_count": 121,
   "id": "788d577a",
   "metadata": {},
   "outputs": [
    {
     "name": "stdout",
     "output_type": "stream",
     "text": [
      "✅ Base de datos 'math_v0_db' restaurada exitosamente desde '/home/enrique/math-knowledge-database/test/backup_abril_20_2025'\n",
      "✅ Conectado a la base de datos 'math_v0_db', colección 'collection'\n"
     ]
    },
    {
     "name": "stderr",
     "output_type": "stream",
     "text": [
      "2025-04-20T23:56:11.331-0600\tThe --db and --collection flags are deprecated for this use-case; please use --nsInclude instead, i.e. with --nsInclude=${DATABASE}.${COLLECTION}\n",
      "2025-04-20T23:56:11.332-0600\tbuilding a list of collections to restore from /home/enrique/math-knowledge-database/test/backup_abril_20_2025/math_v0_db dir\n",
      "2025-04-20T23:56:11.332-0600\tdon't know what to do with file \"/home/enrique/math-knowledge-database/test/backup_abril_20_2025/math_v0_db/prelude.json\", skipping...\n",
      "2025-04-20T23:56:11.332-0600\treading metadata for math_v0_db.collection from /home/enrique/math-knowledge-database/test/backup_abril_20_2025/math_v0_db/collection.metadata.json\n",
      "2025-04-20T23:56:11.333-0600\tdropping collection math_v0_db.collection before restoring\n",
      "2025-04-20T23:56:11.342-0600\trestoring math_v0_db.collection from /home/enrique/math-knowledge-database/test/backup_abril_20_2025/math_v0_db/collection.bson\n",
      "2025-04-20T23:56:11.353-0600\tfinished restoring math_v0_db.collection (7 documents, 0 failures)\n",
      "2025-04-20T23:56:11.353-0600\tno indexes to restore for collection math_v0_db.collection\n",
      "2025-04-20T23:56:11.353-0600\t7 document(s) restored successfully. 0 document(s) failed to restore.\n"
     ]
    }
   ],
   "source": [
    "from db.mathmongo import MathMongoDB  # Asegúrate de que tu clase esté en mathmongo.py o ajusta el import\n",
    "from db.mathmongo import conectar_y_restaurar\n",
    "from pprint import pprint\n",
    "# 1. Crear nueva base de datos (por ejemplo, 'matematica_avanzada')\n",
    "#db = MathMongoDB(db_name=\"math_v0_db\", collection_name=\"collection\")\n",
    "# 2. conectar de nuevo a la base de datos\n",
    "db = conectar_y_restaurar(db_name=\"math_v0_db\", \n",
    "                                      collection_name=\"collection\", \n",
    "                                      backup_dir=\"/home/enrique/math-knowledge-database/test/backup_abril_20_2025\")\n"
   ]
  },
  {
   "cell_type": "code",
   "execution_count": 122,
   "id": "25c468f8",
   "metadata": {},
   "outputs": [
    {
     "name": "stdout",
     "output_type": "stream",
     "text": [
      "✅ Insertado: formato_ejemplo.md\n",
      "📥 Insertados 1 documentos desde './data'\n"
     ]
    }
   ],
   "source": [
    "db.insertar_desde_directorio(\"./data\")  # ← ajusta la ruta si usas otra"
   ]
  },
  {
   "cell_type": "code",
   "execution_count": 125,
   "id": "0eed3211",
   "metadata": {},
   "outputs": [
    {
     "name": "stdout",
     "output_type": "stream",
     "text": [
      "📄 Campos tipo texto en los documentos:\n",
      "                         id       tipo                               titulo                            categorias                                             tags                                                                                                                                       referencia creado_a_partir_de inspirado_en                                   enlaces_entrada enlaces_salida                                                                                                                                                                                                                                                                                                                                                                                                                                                                                                                                                                                                                                                                                                                                                                                                                                                                                                                               contenido_latex\n",
      "        def:conjuntosaaa001 definicion                             Conjunto        Topología, Teoria de conjuntos                               conjunto, notación                          bibkey: rudin1987real; autor: Rudin, W.; año: 1987; obra: Real and Complex Analysis; edición: 3; capitulo: 1; pagina: 6      -, -, -, -, -     -, --, -                                     -, -, -, -, -  -, -, -, -, -                                                                                                                                  \\begin{definition}\\nDenotaremos  $\\{x : P \\}$ al conjunto de todos los elementos que satisfacen la propiedad $P$. El símbolo $\\emptyset$ se usará para el conjunto que no tiene ningún elemento. Por otro lado, las palabras colección, familia y clase serán usadas como sinónimo. La siguiente notación nos será útil para las demostraciones: \\n\\begin{enumerate}\\n\\item Escribiremos $x$ $\\in$ $A$ si $x$ es un miembro de $A$, en otro caso escribiremos $x$ $\\notin$ $A$.\\n\\item Si $B$ es un subconjunto de $A$, lo denotaremos como $B$ $\\subset$ $A$.\\n\\item Si $A \\subset B$ y $B \\subset A$, entonces $A  = B$.\\n\\item Si $A \\subset B$ pero $A \\neq B$, diremos que $A$ es un conjunto propio de A.\\n\\item Para todo conjunto $A$, $\\empytset$ $\\subset$ $A$.\\n\\end{enumerate}\\n\\end{definition}\n",
      "        def:conjuntosaaa002 definicion Uniones e intersecciones arbitrarias        Topología, Teoria de conjuntos                               conjunto, notación                          bibkey: rudin1987real; autor: Rudin, W.; año: 1987; obra: Real and Complex Analysis; edición: 3; capitulo: 1; pagina: 6      -, -, -, -, -     -, --, -                   def:conjuntosaaa001, -, -, -, -  -, -, -, -, - \\begin{definition}\\nDenotaremos  con $ A \\cup B$   y $A \\cap B$ como la unión y la intersección de $A$ y $B$ respectivamente. Luego, si $\\{ A_{\\alpha}\\}$ es una colección de conjuntos, donde $\\alpha$ toma valores en algún conjunto índice $I$, escribiremos\\n\\begin{enumerate}\\n\\item $\\bigcup_{\\alpha \\in I} A_{\\alpha}$ para la unión de conjuntos de $\\{ A_{\\alpha}\\}$, donde\\n\\[ \\bigcup_{\\alpha \\in I} A_{\\alpha} := \\{ x :\\exists \\alpha \\in I: x \\in A_{\\alpha} \\} \\]\\n\\item $\\bigcap_{\\alpha \\in I} A_{\\alpha}$ para la intersección de conjuntos de $\\{ A_{\\alpha}\\}$.\\n\\[ \\bigcap_{\\alpha \\in I} A_{\\alpha} := \\{ x :\\forall \\alpha \\in I: x \\in A_{\\alpha} \\} \\]\\n\\item  Si $I$ es el conjunto de los enteros positivos, entonces\\n\\[ \\bigcup_{\\alpha \\in I} A_{\\alpha} = \\bigcup_{i=1}^{\\infty} A_{\\alpha} \\]\\n\\[ \\bigcap_{\\alpha \\in I} A_{\\alpha} = \\bigcap_{i=1}^{\\infty} A_{\\alpha} \\]\\n\\end{enumerate}\\n\\end{definition}\n",
      "        def:conjuntosaaa003 definicion       Familia de conjuntos disjuntos        Topología, Teoria de conjuntos                               conjunto, notación                          bibkey: rudin1987real; autor: Rudin, W.; año: 1987; obra: Real and Complex Analysis; edición: 3; capitulo: 1; pagina: 7      -, -, -, -, -     -, --, -                      def:conjuntosaaa001, -, -, -  -, -, -, -, -                                                                                                                                                                                                                                                                                                                                                                                                                                                                                                                                                                                                                                                  \\begin{definition}\\nSi en una familia de conjuntos $\\{A_{\\alpha}\\}$ con $\\alpha \\in I$ se cumple que \\n\\[ \\forall \\alpha, \\beta \\in I  \\land \\alpha \\neq \\beta: A_{\\alpha} \\cap A_{\\beta} = \\emptyset \\]\\nentonces $\\{A_{\\alpha}\\}$ es una familia de conjuntos disjuntos.\\n\\end{definition}\n",
      "        def:conjuntosaaa004 definicion              Diferencia de conjuntos        Topología, Teoria de conjuntos                               conjunto, notación                          bibkey: rudin1987real; autor: Rudin, W.; año: 1987; obra: Real and Complex Analysis; edición: 3; capitulo: 1; pagina: 7      -, -, -, -, -     -, --, -                      def:conjuntosaaa001, -, -, -  -, -, -, -, -                                                                                                                                                                                                                                                                                                                                                                                                                                                                                                                                                                                                                                                            \\begin{definition}\\nDenotamos con $A \\setminus B = \\{x : x \\in A \\notin B \\}$ como el complemento de $A$ respecto de $B$. Además, denotamos el complemento de $A$ por $A^{c}$ cuando es claro con respecto a qué conjunto mayor se está tomando el complemento. \\n\\end{definition}\n",
      "        def:conjuntosaaa005 definicion                  Producto Cartesiano        Topología, Teoria de conjuntos                               conjunto, notación                          bibkey: rudin1987real; autor: Rudin, W.; año: 1987; obra: Real and Complex Analysis; edición: 3; capitulo: 1; pagina: 7      -, -, -, -, -     -, --, -                      def:conjuntosaaa001, -, -, -  -, -, -, -, -                                                                                                                                                                                                                                                                                                                                                                                                                                                                                                                                                                                                                                                          \\begin{definition}\\nDado una familia de conjuntos $\\{A_{n}\\}$ con $n \\in \\{1,...,m\\}$ y $m$ entero positivo. Definimos el producto cartesiano\\n\\[ {\\Large\\times\\normalsize}_{i=1}^{n}A_{i} :=\\{(a_{1},...,a_{m}) | a_{i} \\in A_{i} \\forall i \\in \\{1,...,m\\} \\} \\]\\n\\end{definition}\n",
      "        def:conjuntosaaa006 definicion                 Orden en un conjunto        Topología, Conjuntos Ordenados                                            orden         bibkey: rudin1964principles,; autor: Rudin, W.; año: 1964; obra: Principles of Mathematical Analysis; edición: 3; capitulo: 1; pagina: 3      -, -, -, -, -     -, --, -                   def:conjuntosaaa001, -, -, -, -  -, -, -, -, -                                                                                                                                                                                                                                                                                                                                                      \\begin{definition}\\nSea $S$ un conjunto. Un orden en $S$ es una relación , denotada por $<$ con las siguientes dos propiedades:\\n\\begin{enumerate}\\n\\item Si $x \\in S \\land y \\in S$, entonces una y solo una de las siguientes afirmaciones es cierta\\n\\[x < y, \\;\\; x = y, \\;\\; y < x \\]\\n\\item Si $x, y, z \\in S$ y $x < y,$ e  $y < z$, entonces $x < z$.\\n\\end{enumerate}\\nA la afirmación $x < y$ puede leerse de maneras diferentes: \\n\\begin{itemize}\\n\\item $x$ es menor que $y$.\\n\\item $x$ es mas pequeño que $y$.\\n\\item $x$ precede a $y$.\\n\\end{itemize}\\n\\end{definition}\n",
      "        def:conjuntosaaa007 definicion                    Conjunto Ordenado Topología, Conjuntos Ordenados, Orden                                            orden         bibkey: rudin1964principles,; autor: Rudin, W.; año: 1964; obra: Principles of Mathematical Analysis; edición: 3; capitulo: 1; pagina: 3      -, -, -, -, -     -, --, - def:conjuntosaaa006, def:conjuntosaaa001, -, -, -  -, -, -, -, -                                                                                                                                                                                                                                                                                                                                                                                                                                                                                                                                                                                                                                                                                                                                                                                                                                   \\begin{definition}\\nUn conjunto ordenado es un conjunto $S$ donde un orden está definido.\\n\\end{definition}\n",
      "exam:conjuntoordenadoaaa001    example                      Espacio métrico          Topología, Espacios métricos desigualdad triangular, métrica, espacio métrico bibkey: rudin1991functional; autor: Wilkiewicz; año: 2019; obra: Curso de análisis y 150 problemas resueltos; edición: 1; capitulo: 1; pagina: 9      -, -, -, -, -     -, --, -                                     -, -, -, -, -  -, -, -, -, -                                                                                                                                                                                                                                                                                                                                                                                                                                                                                                                                                                                                                                                                                                                                                      \\begin{example}\\nAqui dejaremos alguns ejemplos\\n\\n\\begin{enumerate}\\n\\item Enunciado aquí...\\n\\begin{proof}\\nDemostración aquí...\\n\\end{proof}\\n\\item -\\n\\end{enumerate}\\n\\end{example}\n"
     ]
    }
   ],
   "source": [
    "db.mostrar_campos_texto()"
   ]
  },
  {
   "cell_type": "code",
   "execution_count": 124,
   "id": "ab305dad",
   "metadata": {},
   "outputs": [
    {
     "name": "stdout",
     "output_type": "stream",
     "text": [
      "✏️ Documento 'exam:espacio-metrico' actualizado.\n"
     ]
    }
   ],
   "source": [
    "db.editar_id(\"exam:espacio-metrico\", \n",
    "            {'id': 'exam:conjuntoordenadoaaa001'}\n",
    "            )"
   ]
  },
  {
   "cell_type": "code",
   "execution_count": 126,
   "id": "242b8c34",
   "metadata": {},
   "outputs": [
    {
     "name": "stdout",
     "output_type": "stream",
     "text": [
      "📝 Archivo .md generado: ./exportados/exam__conjuntoordenadoaaa001.md\n"
     ]
    }
   ],
   "source": [
    "db.exportar_a_md(\"exam:conjuntoordenadoaaa001\")"
   ]
  },
  {
   "cell_type": "code",
   "execution_count": 130,
   "id": "3a5a8376",
   "metadata": {},
   "outputs": [
    {
     "name": "stdout",
     "output_type": "stream",
     "text": [
      "✏️ Documento 'exam:conjuntoordenadoaaa001' actualizado con los siguientes cambios:\n",
      "campo anterior   nuevo\n",
      " tipo  example ejemplo\n"
     ]
    }
   ],
   "source": [
    "db.editar_documento(\"exam:conjuntoordenadoaaa001\", \n",
    "                    \"./exportados/exam__conjuntoordenadoaaa001.md\")"
   ]
  },
  {
   "cell_type": "code",
   "execution_count": 131,
   "id": "4db1f2e8",
   "metadata": {},
   "outputs": [
    {
     "name": "stdout",
     "output_type": "stream",
     "text": [
      "🧠 Nodos: 8 | Aristas: 8\n",
      "✅ Grafo exportado en: grafo_espacios_metricos.html\n"
     ]
    }
   ],
   "source": [
    "from visualizacion.grafoconocimiento import GrafoConocimiento  # Asumiendo que tienes esta clase en grafo_conocimiento.py\n",
    "\n",
    "# Paso 2: Obtener todos los documentos\n",
    "documentos = db.mostrar_todos()\n",
    "\n",
    "# Paso 3: Crear grafo con esos documentos\n",
    "grafo = GrafoConocimiento(documentos)\n",
    "\n",
    "# Paso 4: (Opcional) Filtrar solo ciertos tipos o categorías\n",
    "# grafo.filtrar(categorias=[\"Espacios métricos\"], tipos=[\"teorema\", \"lema\", \"corolario\"])\n",
    "\n",
    "# Paso 5: Construir el grafo\n",
    "grafo.construir_grafo()\n",
    "\n",
    "# Paso 6: Exportar a HTML interactivo\n",
    "grafo.exportar_html(\"grafo_espacios_metricos.html\")\n"
   ]
  },
  {
   "cell_type": "code",
   "execution_count": 132,
   "id": "e8e48106",
   "metadata": {},
   "outputs": [
    {
     "name": "stdout",
     "output_type": "stream",
     "text": [
      "✅ ExportadorLatex listo (sin MongoDB)\n",
      "This is pdfTeX, Version 3.14159265-2.6-1.40.20 (TeX Live 2019/Debian) (preloaded format=pdflatex)\n",
      " restricted \\write18 enabled.\n",
      "entering extended mode\n",
      "(./exportados_pdf/exam__conjuntoordenadoaaa001.tex\n",
      "LaTeX2e <2020-02-02> patch level 2\n",
      "L3 programming layer <2020-02-14>\n",
      "(/usr/share/texlive/texmf-dist/tex/latex/base/article.cls\n",
      "Document Class: article 2019/12/20 v1.4l Standard LaTeX document class\n",
      "(/usr/share/texlive/texmf-dist/tex/latex/base/size12.clo))\n",
      "(./exportados_pdf/miestilo.sty\n",
      "(/usr/share/texlive/texmf-dist/tex/latex/base/inputenc.sty)\n",
      "(/usr/share/texlive/texmf-dist/tex/latex/base/fontenc.sty)\n",
      "(/usr/share/texmf/tex/latex/lm/lmodern.sty)\n",
      "(/usr/share/texlive/texmf-dist/tex/latex/base/fontenc.sty\n",
      "(/usr/share/texmf/tex/latex/lm/t1lmr.fd))\n",
      "(/usr/share/texlive/texmf-dist/tex/generic/babel/babel.sty\n",
      "(/usr/share/texlive/texmf-dist/tex/generic/babel/switch.def)\n",
      "(/usr/share/texlive/texmf-dist/tex/generic/babel-spanish/spanish.ldf\n",
      "(/usr/share/texlive/texmf-dist/tex/generic/babel/babel.def\n",
      "(/usr/share/texlive/texmf-dist/tex/generic/babel/txtbabel.def))))\n",
      "(/usr/share/texlive/texmf-dist/tex/latex/base/textcomp.sty)\n",
      "(/usr/share/texlive/texmf-dist/tex/latex/enumitem/enumitem.sty)\n",
      "(/usr/share/texlive/texmf-dist/tex/latex/amsmath/amsmath.sty\n",
      "For additional information on amsmath, use the `?' option.\n",
      "(/usr/share/texlive/texmf-dist/tex/latex/amsmath/amstext.sty\n",
      "(/usr/share/texlive/texmf-dist/tex/latex/amsmath/amsgen.sty))\n",
      "(/usr/share/texlive/texmf-dist/tex/latex/amsmath/amsbsy.sty)\n",
      "(/usr/share/texlive/texmf-dist/tex/latex/amsmath/amsopn.sty))\n",
      "(/usr/share/texlive/texmf-dist/tex/latex/amsfonts/amssymb.sty\n",
      "(/usr/share/texlive/texmf-dist/tex/latex/amsfonts/amsfonts.sty))\n",
      "(/usr/share/texlive/texmf-dist/tex/latex/geometry/geometry.sty\n",
      "(/usr/share/texlive/texmf-dist/tex/latex/graphics/keyval.sty)\n",
      "(/usr/share/texlive/texmf-dist/tex/generic/iftex/ifvtex.sty\n",
      "(/usr/share/texlive/texmf-dist/tex/generic/iftex/iftex.sty)))\n",
      "(/usr/share/texlive/texmf-dist/tex/latex/xcolor/xcolor.sty\n",
      "(/usr/share/texlive/texmf-dist/tex/latex/graphics-cfg/color.cfg)\n",
      "(/usr/share/texlive/texmf-dist/tex/latex/graphics-def/pdftex.def))\n",
      "(/usr/share/texlive/texmf-dist/tex/latex/titlesec/titlesec.sty)\n",
      "(/usr/share/texlive/texmf-dist/tex/latex/graphics/graphicx.sty\n",
      "(/usr/share/texlive/texmf-dist/tex/latex/graphics/graphics.sty\n",
      "(/usr/share/texlive/texmf-dist/tex/latex/graphics/trig.sty)\n",
      "(/usr/share/texlive/texmf-dist/tex/latex/graphics-cfg/graphics.cfg)))\n",
      "(/usr/share/texlive/texmf-dist/tex/latex/hyperref/hyperref.sty\n",
      "(/usr/share/texlive/texmf-dist/tex/generic/ltxcmds/ltxcmds.sty)\n",
      "(/usr/share/texlive/texmf-dist/tex/latex/pdftexcmds/pdftexcmds.sty\n",
      "(/usr/share/texlive/texmf-dist/tex/generic/infwarerr/infwarerr.sty))\n",
      "(/usr/share/texlive/texmf-dist/tex/generic/kvsetkeys/kvsetkeys.sty)\n",
      "(/usr/share/texlive/texmf-dist/tex/generic/kvdefinekeys/kvdefinekeys.sty)\n",
      "(/usr/share/texlive/texmf-dist/tex/generic/pdfescape/pdfescape.sty)\n",
      "(/usr/share/texlive/texmf-dist/tex/latex/hycolor/hycolor.sty)\n",
      "(/usr/share/texlive/texmf-dist/tex/latex/letltxmacro/letltxmacro.sty)\n",
      "(/usr/share/texlive/texmf-dist/tex/latex/auxhook/auxhook.sty)\n",
      "(/usr/share/texlive/texmf-dist/tex/latex/kvoptions/kvoptions.sty)\n",
      "(/usr/share/texlive/texmf-dist/tex/latex/hyperref/pd1enc.def)\n",
      "(/usr/share/texlive/texmf-dist/tex/generic/intcalc/intcalc.sty)\n",
      "(/usr/share/texlive/texmf-dist/tex/generic/etexcmds/etexcmds.sty)\n",
      "(/usr/share/texlive/texmf-dist/tex/latex/url/url.sty)\n",
      "(/usr/share/texlive/texmf-dist/tex/generic/bitset/bitset.sty\n",
      "(/usr/share/texlive/texmf-dist/tex/generic/bigintcalc/bigintcalc.sty))\n",
      "(/usr/share/texlive/texmf-dist/tex/generic/atbegshi/atbegshi.sty))\n",
      "(/usr/share/texlive/texmf-dist/tex/latex/hyperref/hpdftex.def\n",
      "(/usr/share/texlive/texmf-dist/tex/latex/atveryend/atveryend.sty)\n",
      "(/usr/share/texlive/texmf-dist/tex/latex/rerunfilecheck/rerunfilecheck.sty\n",
      "(/usr/share/texlive/texmf-dist/tex/generic/uniquecounter/uniquecounter.sty)))\n",
      "(/usr/share/texlive/texmf-dist/tex/latex/amscls/amsthm.sty))\n",
      "(/usr/share/texlive/texmf-dist/tex/latex/l3backend/l3backend-pdfmode.def)\n",
      "No file exam__conjuntoordenadoaaa001.aux.\n",
      "*geometry* driver: auto-detecting\n",
      "*geometry* detected driver: pdftex\n",
      "(/usr/share/texlive/texmf-dist/tex/context/base/mkii/supp-pdf.mkii\n",
      "[Loading MPS to PDF converter (version 2006.09.02).]\n",
      ") (/usr/share/texlive/texmf-dist/tex/latex/epstopdf-pkg/epstopdf-base.sty\n",
      "(/usr/share/texlive/texmf-dist/tex/latex/latexconfig/epstopdf-sys.cfg))\n",
      "(/usr/share/texlive/texmf-dist/tex/latex/hyperref/nameref.sty\n",
      "(/usr/share/texlive/texmf-dist/tex/latex/refcount/refcount.sty)\n",
      "(/usr/share/texlive/texmf-dist/tex/generic/gettitlestring/gettitlestring.sty))\n",
      "(/usr/share/texmf/tex/latex/lm/t1lmss.fd)\n",
      "(/usr/share/texmf/tex/latex/lm/ot1lmr.fd)\n",
      "(/usr/share/texmf/tex/latex/lm/omllmm.fd)\n",
      "(/usr/share/texmf/tex/latex/lm/omslmsy.fd)\n",
      "(/usr/share/texmf/tex/latex/lm/omxlmex.fd)\n",
      "(/usr/share/texlive/texmf-dist/tex/latex/amsfonts/umsa.fd)\n",
      "(/usr/share/texlive/texmf-dist/tex/latex/amsfonts/umsb.fd) [1{/var/lib/texmf/fo\n",
      "nts/map/pdftex/updmap/pdftex.map}]\n",
      "(./exportados_pdf/exam__conjuntoordenadoaaa001.aux) ){/usr/share/texmf/fonts/en\n",
      "c/dvips/lm/lm-ec.enc}{/usr/share/texmf/fonts/enc/dvips/lm/lm-mathsy.enc}{/usr/s\n",
      "hare/texmf/fonts/enc/dvips/lm/lm-mathit.enc}</usr/share/texmf/fonts/type1/publi\n",
      "c/lm/lmbx12.pfb></usr/share/texmf/fonts/type1/public/lm/lmmi12.pfb></usr/share/\n",
      "texmf/fonts/type1/public/lm/lmr12.pfb></usr/share/texmf/fonts/type1/public/lm/l\n",
      "mri12.pfb></usr/share/texmf/fonts/type1/public/lm/lmssbx10.pfb></usr/share/texm\n",
      "f/fonts/type1/public/lm/lmsy10.pfb></usr/share/texlive/texmf-dist/fonts/type1/p\n",
      "ublic/amsfonts/symbols/msbm10.pfb>\n",
      "Output written on ./exportados_pdf/exam__conjuntoordenadoaaa001.pdf (1 page, 10\n",
      "0219 bytes).\n",
      "Transcript written on ./exportados_pdf/exam__conjuntoordenadoaaa001.log.\n",
      "📄 PDF generado en: ./exportados_pdf/exam__conjuntoordenadoaaa001.pdf\n"
     ]
    }
   ],
   "source": [
    "from export.exportadorlatex import ExportadorLatex\n",
    "# Exportar a PDF usando LaTeX\n",
    "exportador = ExportadorLatex(plantilla_path=\"../export/templates/miestilo.sty\")\n",
    "data = db.buscar_por_id(doc_id=\"exam:conjuntoordenadoaaa001\")\n",
    "exportador.exportar_desde_dict(data,salida=\"./exportados_pdf\")\n"
   ]
  },
  {
   "cell_type": "code",
   "execution_count": 133,
   "id": "f35a6237",
   "metadata": {},
   "outputs": [
    {
     "name": "stdout",
     "output_type": "stream",
     "text": [
      "💾 Backup creado en: backup_abril_20_2025/math_v0_db\n"
     ]
    },
    {
     "name": "stderr",
     "output_type": "stream",
     "text": [
      "2025-04-21T00:05:34.023-0600\twriting math_v0_db.collection to backup_abril_20_2025/math_v0_db/collection.bson\n",
      "2025-04-21T00:05:34.025-0600\tdone dumping math_v0_db.collection (8 documents)\n"
     ]
    }
   ],
   "source": [
    "db.hacer_backup(directorio=\"backup_abril_20_2025\")"
   ]
  },
  {
   "cell_type": "code",
   "execution_count": null,
   "id": "b1b08e6f",
   "metadata": {},
   "outputs": [],
   "source": []
  }
 ],
 "metadata": {
  "kernelspec": {
   "display_name": "Python 3",
   "language": "python",
   "name": "python3"
  },
  "language_info": {
   "codemirror_mode": {
    "name": "ipython",
    "version": 3
   },
   "file_extension": ".py",
   "mimetype": "text/x-python",
   "name": "python",
   "nbconvert_exporter": "python",
   "pygments_lexer": "ipython3",
   "version": "3.10.14"
  }
 },
 "nbformat": 4,
 "nbformat_minor": 5
}
